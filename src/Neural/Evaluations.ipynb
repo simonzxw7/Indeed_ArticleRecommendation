{
 "cells": [
  {
   "cell_type": "markdown",
   "id": "missing-carbon",
   "metadata": {},
   "source": [
    "Evaluations of Sentence Transformers model, TF-IDF model and Gensim LDA topic model representation on Link dataset\n",
    "--"
   ]
  },
  {
   "cell_type": "code",
   "execution_count": 1,
   "id": "afraid-label",
   "metadata": {
    "colab": {
     "base_uri": "https://localhost:8080/"
    },
    "id": "2hFkemK9UDY-",
    "outputId": "89e8db1c-c925-48da-fccd-513a9e904435"
   },
   "outputs": [
    {
     "name": "stdout",
     "output_type": "stream",
     "text": [
      "Mounted at /content/gdrive\n"
     ]
    }
   ],
   "source": [
    "from google.colab import drive\n",
    "drive.mount('/content/gdrive')"
   ]
  },
  {
   "cell_type": "code",
   "execution_count": 2,
   "id": "fossil-cooperation",
   "metadata": {
    "id": "oIqtHU3GUEzF"
   },
   "outputs": [],
   "source": [
    "!cp /content/gdrive/MyDrive/indeed/import_lib_n_functions.py .\n",
    "!cp /content/gdrive/MyDrive/indeed/pre_process.py ."
   ]
  },
  {
   "cell_type": "markdown",
   "id": "beautiful-factor",
   "metadata": {
    "id": "1UAtAxCPUBEb"
   },
   "source": [
    "Importing Libraries\n",
    "--"
   ]
  },
  {
   "cell_type": "code",
   "execution_count": 5,
   "id": "brutal-briefs",
   "metadata": {
    "colab": {
     "base_uri": "https://localhost:8080/"
    },
    "id": "9vu8kpB0UBEc",
    "outputId": "259ddf5d-3bf7-4c94-abe2-2735ea3cbe47"
   },
   "outputs": [
    {
     "name": "stdout",
     "output_type": "stream",
     "text": [
      "Loading Libraries...Just a moment please!...\n",
      "[nltk_data] Downloading package stopwords to /root/nltk_data...\n",
      "[nltk_data]   Unzipping corpora/stopwords.zip.\n",
      "[nltk_data] Downloading package punkt to /root/nltk_data...\n",
      "[nltk_data]   Unzipping tokenizers/punkt.zip.\n"
     ]
    }
   ],
   "source": [
    "from pre_process import *"
   ]
  },
  {
   "cell_type": "markdown",
   "id": "limiting-curtis",
   "metadata": {
    "id": "BjnbRZyaUBEd"
   },
   "source": [
    "Path for the Source data files\n",
    "--"
   ]
  },
  {
   "cell_type": "code",
   "execution_count": 6,
   "id": "adjustable-collectible",
   "metadata": {
    "id": "-rZBtQaJUBEd"
   },
   "outputs": [],
   "source": [
    "path = \"/content/gdrive/MyDrive/Career Guide Public Content/\""
   ]
  },
  {
   "cell_type": "markdown",
   "id": "public-lecture",
   "metadata": {
    "id": "-B2-dgL7UBEe"
   },
   "source": [
    "Evaluation specific variable declaration\n",
    "--"
   ]
  },
  {
   "cell_type": "code",
   "execution_count": 7,
   "id": "cloudy-harvey",
   "metadata": {
    "id": "fU7IQd4jUBEe"
   },
   "outputs": [],
   "source": [
    "#Loading the data\n",
    "art_train = load_data(f\"{path}article.json\")\n",
    "art_test = load_data(f\"{path}article_20210503_to_20210525.json\")\n",
    "all_article = pd.concat([art_train, art_test])\n",
    "cp_train = load_data(f\"{path}careerpathpage.json\")\n",
    "cl_train = load_data(f\"{path}coverletter.json\")\n",
    "res_train = load_data(f\"{path}resumesamplepage.json\")\n",
    "\n",
    "#Creating content title column which is a combination of title and content\n",
    "all_article[\"cont_title\"] = all_article[\"contentTitle\"] + \" \" +all_article[\"content\"]\n",
    "art_test[\"cont_title\"] = art_test[\"contentTitle\"] + \" \" +art_test[\"content\"]\n",
    "cp_train[\"cont_title\"] = cp_train[\"h1\"] + \" \" + cp_train[\"primaryContent\"]\n",
    "cl_train[\"cont_title\"] = cl_train[\"title\"] + \" \" + cl_train[\"contentA\"] + \" \" +cl_train[\"contentB\"]\n",
    "res_train[\"cont_title\"] = res_train[\"title\"] + \" \" + res_train[\"contentA\"] +\" \"+res_train[\"contentB\"]\n",
    "\n",
    "#Removing hyperlinks and html tags from the corpus\n",
    "rltd_arts, all_article = get_corpus(all_article, \"cont_title\")\n",
    "art_test = remove_hyperlinks_html_tags(art_test, \"cont_title\")\n",
    "cp_train = remove_hyperlinks_html_tags(cp_train, \"cont_title\")\n",
    "cl_train = remove_hyperlinks_html_tags(cl_train, \"cont_title\")\n",
    "res_train  = remove_hyperlinks_html_tags(res_train, \"cont_title\")"
   ]
  },
  {
   "cell_type": "code",
   "execution_count": 8,
   "id": "amateur-trading",
   "metadata": {
    "id": "kxDnTYRlUBEf"
   },
   "outputs": [],
   "source": [
    "#Creating a list of cont_title, titles and url_routes\n",
    "cont = all_article[\"cont_title\"].tolist() + cp_train[\"cont_title\"].tolist() + cl_train[\"cont_title\"].tolist() + res_train[\"cont_title\"].tolist()\n",
    "all_title = all_article[\"contentTitle\"].tolist() + cp_train[\"h1\"].tolist() + cl_train[\"title\"].tolist() + res_train[\"title\"].tolist()\n",
    "url_route = all_article[\"urlRoute\"].tolist() + cp_train[\"urlRoute\"].tolist() + cl_train[\"urlRoute\"].tolist() + res_train[\"urlRoute\"].tolist()\n",
    "\n",
    "#Getting all document ids\n",
    "art_train_ids = [id_[\"$oid\"] for id_ in art_train[\"_id\"].tolist()]\n",
    "art_test_ids = [id_[\"$oid\"] for id_ in art_test[\"_id\"].tolist()]\n",
    "cp_train_ids = [id_[\"$oid\"] for id_ in cp_train[\"_id\"].tolist()]\n",
    "cl_train_ids = [id_[\"$oid\"] for id_ in cl_train[\"_id\"].tolist()]\n",
    "res_train_ids = [id_[\"$oid\"] for id_ in res_train[\"_id\"].tolist()]\n",
    "all_ids = art_train_ids + art_test_ids + cp_train_ids + cl_train_ids + res_train_ids\n",
    "\n",
    "#We are concatenating category and url column for loading link data and avoiding any duplicates \n",
    "all_article[\"cat_url\"] = all_article[\"category\"]+ \"|\" + all_article[\"urlRoute\"] \n",
    "cp_train[\"cat_url\"] = \"careers|\" + cp_train[\"urlRoute\"]\n",
    "cl_train[\"cat_url\"] = \"career-advice|\" + cl_train[\"urlRoute\"]\n",
    "res_train[\"cat_url\"] = res_train[\"category\"]+ \"|\" + res_train[\"urlRoute\"] \n",
    "\n",
    "#Creating a list of all category url data\n",
    "cat_url = all_article[\"cat_url\"].tolist() + cp_train[\"cat_url\"].tolist() + cl_train[\"cat_url\"].tolist() + res_train[\"cat_url\"].tolist()\n",
    "\n",
    "#Creating respective dictionary required for processing the link data\n",
    "url2i_lookup = {url:i for i, url in enumerate(cat_url)}\n",
    "id2index = {id:i for i, id in enumerate(all_ids)}\n",
    "id2index_rev = {i:id for i, id in enumerate(all_ids)}\n",
    "id2title = {id:title for id, title in zip(all_ids, all_title)}"
   ]
  },
  {
   "cell_type": "code",
   "execution_count": 9,
   "id": "unlike-samba",
   "metadata": {
    "id": "Cmdxi-9PUBEh"
   },
   "outputs": [],
   "source": [
    "assert len(set(all_ids)) == len(set(cat_url)) == len(set(url2i_lookup)) == len(set(id2title))"
   ]
  },
  {
   "cell_type": "code",
   "execution_count": 10,
   "id": "close-korean",
   "metadata": {
    "colab": {
     "base_uri": "https://localhost:8080/"
    },
    "id": "bMYyYZE5UBEi",
    "outputId": "47e47dab-0811-485b-a5e4-ad50ad7ab173"
   },
   "outputs": [
    {
     "name": "stdout",
     "output_type": "stream",
     "text": [
      "# of related articles: 14862\n"
     ]
    }
   ],
   "source": [
    "print(\"# of related articles:\", len(rltd_arts))"
   ]
  },
  {
   "cell_type": "markdown",
   "id": "southern-greeting",
   "metadata": {
    "id": "Hprdcl2JUBEj"
   },
   "source": [
    "Perform Sentence transformer encoding\n",
    "--"
   ]
  },
  {
   "cell_type": "code",
   "execution_count": 12,
   "id": "equal-accounting",
   "metadata": {
    "id": "YWzRGoN4UBEk"
   },
   "outputs": [],
   "source": [
    "embedding_model = \"msmarco-MiniLM-L-12-v3\"\n",
    "device = \"cuda\" if torch.cuda.is_available else \"cpu\"\n",
    "sent_embeddings = Sentence_Encoder(embedding_model).embed_documents(cont, device=device, verbose=True)"
   ]
  },
  {
   "cell_type": "markdown",
   "id": "negative-cricket",
   "metadata": {
    "id": "TBirViiBUBEk"
   },
   "source": [
    "Load Link Data\n",
    "--"
   ]
  },
  {
   "cell_type": "code",
   "execution_count": 13,
   "id": "undefined-weight",
   "metadata": {
    "colab": {
     "base_uri": "https://localhost:8080/"
    },
    "id": "ntajL2J9UBEp",
    "outputId": "03bb97c6-329e-424d-9c34-54847affc09a"
   },
   "outputs": [
    {
     "name": "stdout",
     "output_type": "stream",
     "text": [
      "Link files loaded to the system are:\n",
      " /content/gdrive/MyDrive/Career Guide Public Content/Pageview_matrix_20210511.csv\n"
     ]
    }
   ],
   "source": [
    "all_files = [f'{path}Pageview_matrix_20210511.csv']\n",
    "print(f\"Link files loaded to the system are:\\n {all_files[0]}\")\n",
    "\n",
    "linkdf = pd.read_csv(all_files[0], index_col=None, header=0)\n",
    "link1 = linkdf[\"link_1\"].apply(lambda x: \"/\".join(x.split(\"/\")[-2:]))\n",
    "link2 = linkdf[\"link_2\"].apply(lambda x: \"/\".join(x.split(\"/\")[-2:]))\n",
    "visit = linkdf[\"visitor_count\"]\n",
    "\n",
    "linkdf = pd.DataFrame(link1)\n",
    "linkdf[\"link_2\"] = link2\n",
    "linkdf[\"visitor_count\"] = visit"
   ]
  },
  {
   "cell_type": "code",
   "execution_count": 14,
   "id": "equivalent-fault",
   "metadata": {
    "id": "idSlw1zaUBEq"
   },
   "outputs": [],
   "source": [
    "def link_csv(df, type=\"ids\"):\n",
    "    \"\"\"\n",
    "    Transforming links in the link dataframe to title names\n",
    "    \"\"\"\n",
    "    links1 = []\n",
    "    links2 = []    \n",
    "    link_dict = defaultdict(list)\n",
    "    for i, (l1, l2, v) in enumerate(zip(df[\"link_1\"], df[\"link_2\"], df[\"visitor_count\"])):\n",
    "        if i % 1 == 0:\n",
    "            print(f\"Number of records processed : {i+1}\", end=\"\\r\")  \n",
    "        l1 = \"|\".join(l1.split(\"/\")[-2:])\n",
    "        l2 = \"|\".join(l2.split(\"/\")[-2:])\n",
    "        if l1 in cat_url and l2 in cat_url:\n",
    "            index = url2i_lookup[l1]\n",
    "            link_dict[\"link1\"].append(id2index_rev[index]) if type == \"ids\" else link_dict[\"link1\"].append(id2title[id2index_rev[index]])\n",
    "\n",
    "            index = url2i_lookup[l2]            \n",
    "            link_dict[\"link2\"].append(id2index_rev[index]) if type == \"ids\" else link_dict[\"link2\"].append(id2title[id2index_rev[index]])\n",
    "            link_dict[\"visit\"].append(int(v))                    \n",
    "        else:\n",
    "            continue\n",
    "    return link_dict"
   ]
  },
  {
   "cell_type": "code",
   "execution_count": 15,
   "id": "separated-sodium",
   "metadata": {
    "colab": {
     "base_uri": "https://localhost:8080/"
    },
    "id": "HfhJAE-CUBEr",
    "outputId": "1cac065b-b655-4299-9fad-16e57ff727e7"
   },
   "outputs": [
    {
     "name": "stdout",
     "output_type": "stream",
     "text": [
      "Load Link file ids:\n",
      "\n"
     ]
    }
   ],
   "source": [
    "print(\"Load Link file ids:\\n\")\n",
    "final_dict = link_csv(linkdf, \"ids\")"
   ]
  },
  {
   "cell_type": "code",
   "execution_count": 16,
   "id": "talented-cleveland",
   "metadata": {
    "colab": {
     "base_uri": "https://localhost:8080/"
    },
    "id": "RxHHwH0VUBEr",
    "outputId": "5320a598-5bf0-4b61-d50a-de0909784a65"
   },
   "outputs": [
    {
     "name": "stdout",
     "output_type": "stream",
     "text": [
      "Load Link file titles:\n",
      "\n"
     ]
    }
   ],
   "source": [
    "print(\"Load Link file titles:\\n\")\n",
    "final_dict_ = link_csv(linkdf, \"title\")"
   ]
  },
  {
   "cell_type": "markdown",
   "id": "quality-submission",
   "metadata": {
    "id": "HK3h4crbUBEr"
   },
   "source": [
    "Link dataframe by id's\n",
    "--"
   ]
  },
  {
   "cell_type": "code",
   "execution_count": 17,
   "id": "biblical-berkeley",
   "metadata": {
    "colab": {
     "base_uri": "https://localhost:8080/",
     "height": 412
    },
    "id": "d0INB5YXUBEs",
    "outputId": "8d191317-6429-4d1e-f2ea-4041cf9f651f"
   },
   "outputs": [
    {
     "data": {
      "text/html": [
       "<div>\n",
       "<style scoped>\n",
       "    .dataframe tbody tr th:only-of-type {\n",
       "        vertical-align: middle;\n",
       "    }\n",
       "\n",
       "    .dataframe tbody tr th {\n",
       "        vertical-align: top;\n",
       "    }\n",
       "\n",
       "    .dataframe thead th {\n",
       "        text-align: right;\n",
       "    }\n",
       "</style>\n",
       "<table border=\"1\" class=\"dataframe\">\n",
       "  <thead>\n",
       "    <tr style=\"text-align: right;\">\n",
       "      <th></th>\n",
       "      <th>link1</th>\n",
       "      <th>link2</th>\n",
       "      <th>visit</th>\n",
       "    </tr>\n",
       "  </thead>\n",
       "  <tbody>\n",
       "    <tr>\n",
       "      <th>0</th>\n",
       "      <td>5ceeecc3f6610e04a9091b36</td>\n",
       "      <td>5ceeecc3f6610e04a9091a90</td>\n",
       "      <td>2083</td>\n",
       "    </tr>\n",
       "    <tr>\n",
       "      <th>1</th>\n",
       "      <td>5ceeecc3f6610e04a9091b1f</td>\n",
       "      <td>5ceeecc3f6610e04a9091ad8</td>\n",
       "      <td>428</td>\n",
       "    </tr>\n",
       "    <tr>\n",
       "      <th>2</th>\n",
       "      <td>5ceeecc3f6610e04a9091b36</td>\n",
       "      <td>5ceeecc3f6610e04a9091ac2</td>\n",
       "      <td>322</td>\n",
       "    </tr>\n",
       "    <tr>\n",
       "      <th>3</th>\n",
       "      <td>5ceeecc3f6610e04a9091b1f</td>\n",
       "      <td>5ceeecc3f6610e04a9091a90</td>\n",
       "      <td>307</td>\n",
       "    </tr>\n",
       "    <tr>\n",
       "      <th>4</th>\n",
       "      <td>5ceeecc3f6610e04a9091b1f</td>\n",
       "      <td>5ceeecc3f6610e04a9091ac2</td>\n",
       "      <td>295</td>\n",
       "    </tr>\n",
       "    <tr>\n",
       "      <th>...</th>\n",
       "      <td>...</td>\n",
       "      <td>...</td>\n",
       "      <td>...</td>\n",
       "    </tr>\n",
       "    <tr>\n",
       "      <th>190681</th>\n",
       "      <td>5ceeecc3f6610e04a9091a6a</td>\n",
       "      <td>5e68fba1ca80a8004009e2e7</td>\n",
       "      <td>2</td>\n",
       "    </tr>\n",
       "    <tr>\n",
       "      <th>190682</th>\n",
       "      <td>60944b81bd2003003b6cbac1</td>\n",
       "      <td>6094460cbd2003003b6cb96c</td>\n",
       "      <td>2</td>\n",
       "    </tr>\n",
       "    <tr>\n",
       "      <th>190683</th>\n",
       "      <td>60944783bd2003003b6cb9d6</td>\n",
       "      <td>6094475b01df0700449da41f</td>\n",
       "      <td>2</td>\n",
       "    </tr>\n",
       "    <tr>\n",
       "      <th>190684</th>\n",
       "      <td>5e0fbce6faa4a8dd50bf3ca9</td>\n",
       "      <td>5e0fbbb2faa4a8dd50bf3990</td>\n",
       "      <td>2</td>\n",
       "    </tr>\n",
       "    <tr>\n",
       "      <th>190685</th>\n",
       "      <td>5d9cf4786ad6fb21399acb19</td>\n",
       "      <td>5df11e4bac70c8d478e7dd57</td>\n",
       "      <td>2</td>\n",
       "    </tr>\n",
       "  </tbody>\n",
       "</table>\n",
       "<p>190686 rows × 3 columns</p>\n",
       "</div>"
      ],
      "text/plain": [
       "                           link1                     link2  visit\n",
       "0       5ceeecc3f6610e04a9091b36  5ceeecc3f6610e04a9091a90   2083\n",
       "1       5ceeecc3f6610e04a9091b1f  5ceeecc3f6610e04a9091ad8    428\n",
       "2       5ceeecc3f6610e04a9091b36  5ceeecc3f6610e04a9091ac2    322\n",
       "3       5ceeecc3f6610e04a9091b1f  5ceeecc3f6610e04a9091a90    307\n",
       "4       5ceeecc3f6610e04a9091b1f  5ceeecc3f6610e04a9091ac2    295\n",
       "...                          ...                       ...    ...\n",
       "190681  5ceeecc3f6610e04a9091a6a  5e68fba1ca80a8004009e2e7      2\n",
       "190682  60944b81bd2003003b6cbac1  6094460cbd2003003b6cb96c      2\n",
       "190683  60944783bd2003003b6cb9d6  6094475b01df0700449da41f      2\n",
       "190684  5e0fbce6faa4a8dd50bf3ca9  5e0fbbb2faa4a8dd50bf3990      2\n",
       "190685  5d9cf4786ad6fb21399acb19  5df11e4bac70c8d478e7dd57      2\n",
       "\n",
       "[190686 rows x 3 columns]"
      ]
     },
     "execution_count": 17,
     "metadata": {
      "tags": []
     },
     "output_type": "execute_result"
    }
   ],
   "source": [
    "link_df = pd.DataFrame.from_dict(final_dict)\n",
    "link_df"
   ]
  },
  {
   "cell_type": "markdown",
   "id": "raising-metadata",
   "metadata": {
    "id": "UTOcaawCUBEs"
   },
   "source": [
    "Link dataframe by titles\n",
    "--"
   ]
  },
  {
   "cell_type": "code",
   "execution_count": 18,
   "id": "after-mobility",
   "metadata": {
    "colab": {
     "base_uri": "https://localhost:8080/",
     "height": 412
    },
    "id": "RrIyHIQLUBEs",
    "outputId": "6e4b9c6d-621c-4217-cd99-ef217f908288"
   },
   "outputs": [
    {
     "data": {
      "text/html": [
       "<div>\n",
       "<style scoped>\n",
       "    .dataframe tbody tr th:only-of-type {\n",
       "        vertical-align: middle;\n",
       "    }\n",
       "\n",
       "    .dataframe tbody tr th {\n",
       "        vertical-align: top;\n",
       "    }\n",
       "\n",
       "    .dataframe thead th {\n",
       "        text-align: right;\n",
       "    }\n",
       "</style>\n",
       "<table border=\"1\" class=\"dataframe\">\n",
       "  <thead>\n",
       "    <tr style=\"text-align: right;\">\n",
       "      <th></th>\n",
       "      <th>link1</th>\n",
       "      <th>link2</th>\n",
       "      <th>visit</th>\n",
       "    </tr>\n",
       "  </thead>\n",
       "  <tbody>\n",
       "    <tr>\n",
       "      <th>0</th>\n",
       "      <td>List of Weaknesses: 10 Things To Say in an Interview</td>\n",
       "      <td>39 Strengths and Weaknesses to Discuss in a Job Interview</td>\n",
       "      <td>2083</td>\n",
       "    </tr>\n",
       "    <tr>\n",
       "      <th>1</th>\n",
       "      <td>125 Common Interview Questions and Answers (With Tips)</td>\n",
       "      <td>21 Job Interview Tips: How To Make a Great Impression</td>\n",
       "      <td>428</td>\n",
       "    </tr>\n",
       "    <tr>\n",
       "      <th>2</th>\n",
       "      <td>List of Weaknesses: 10 Things To Say in an Interview</td>\n",
       "      <td>How to Answer \"Tell Me About Yourself\" (Tips and Example Answers)</td>\n",
       "      <td>322</td>\n",
       "    </tr>\n",
       "    <tr>\n",
       "      <th>3</th>\n",
       "      <td>125 Common Interview Questions and Answers (With Tips)</td>\n",
       "      <td>39 Strengths and Weaknesses to Discuss in a Job Interview</td>\n",
       "      <td>307</td>\n",
       "    </tr>\n",
       "    <tr>\n",
       "      <th>4</th>\n",
       "      <td>125 Common Interview Questions and Answers (With Tips)</td>\n",
       "      <td>How to Answer \"Tell Me About Yourself\" (Tips and Example Answers)</td>\n",
       "      <td>295</td>\n",
       "    </tr>\n",
       "    <tr>\n",
       "      <th>...</th>\n",
       "      <td>...</td>\n",
       "      <td>...</td>\n",
       "      <td>...</td>\n",
       "    </tr>\n",
       "    <tr>\n",
       "      <th>190681</th>\n",
       "      <td>Interview Question: \"What are You Passionate About?\"</td>\n",
       "      <td>10 Closing Statements to Use After an Interview</td>\n",
       "      <td>2</td>\n",
       "    </tr>\n",
       "    <tr>\n",
       "      <th>190682</th>\n",
       "      <td>How to Get an Undergraduate Law Internship</td>\n",
       "      <td>8 Steps To Write a Daily Construction Report (With Tips)</td>\n",
       "      <td>2</td>\n",
       "    </tr>\n",
       "    <tr>\n",
       "      <th>190683</th>\n",
       "      <td>How To Become Construction Estimator in 3 Steps</td>\n",
       "      <td>How To Become an Art Therapist (With 7 Steps)</td>\n",
       "      <td>2</td>\n",
       "    </tr>\n",
       "    <tr>\n",
       "      <th>190684</th>\n",
       "      <td>How To Write an Application Letter (With Examples)</td>\n",
       "      <td>Self-Introduction Tips and Tricks (with Examples)</td>\n",
       "      <td>2</td>\n",
       "    </tr>\n",
       "    <tr>\n",
       "      <th>190685</th>\n",
       "      <td>How To Write a Federal Resume</td>\n",
       "      <td>Learn About Being an Advertising Manager</td>\n",
       "      <td>2</td>\n",
       "    </tr>\n",
       "  </tbody>\n",
       "</table>\n",
       "<p>190686 rows × 3 columns</p>\n",
       "</div>"
      ],
      "text/plain": [
       "                                                         link1  ... visit\n",
       "0         List of Weaknesses: 10 Things To Say in an Interview  ...  2083\n",
       "1       125 Common Interview Questions and Answers (With Tips)  ...   428\n",
       "2         List of Weaknesses: 10 Things To Say in an Interview  ...   322\n",
       "3       125 Common Interview Questions and Answers (With Tips)  ...   307\n",
       "4       125 Common Interview Questions and Answers (With Tips)  ...   295\n",
       "...                                                        ...  ...   ...\n",
       "190681    Interview Question: \"What are You Passionate About?\"  ...     2\n",
       "190682              How to Get an Undergraduate Law Internship  ...     2\n",
       "190683         How To Become Construction Estimator in 3 Steps  ...     2\n",
       "190684      How To Write an Application Letter (With Examples)  ...     2\n",
       "190685                           How To Write a Federal Resume  ...     2\n",
       "\n",
       "[190686 rows x 3 columns]"
      ]
     },
     "execution_count": 18,
     "metadata": {
      "tags": []
     },
     "output_type": "execute_result"
    }
   ],
   "source": [
    "link_df_titles = pd.DataFrame.from_dict(final_dict_)\n",
    "link_df_titles"
   ]
  },
  {
   "cell_type": "markdown",
   "id": "bridal-david",
   "metadata": {
    "id": "rm6nFv9EUBE3"
   },
   "source": [
    "Perform Cosine similarity for Sentence transformer neural model embeddings\n",
    "--"
   ]
  },
  {
   "cell_type": "code",
   "execution_count": 19,
   "id": "parental-senegal",
   "metadata": {
    "id": "Np7_JoeLUBE4"
   },
   "outputs": [],
   "source": [
    "def calc_sim(embeddings):\n",
    "    \"\"\"\n",
    "    Calculate Cosine Similarity for the embeddings recieved\n",
    "    \"\"\"\n",
    "    cosine_scores = cosine_similarity(embeddings, embeddings)\n",
    "    return cosine_scores\n",
    "\n",
    "sent_cosine_scores = calc_sim(sent_embeddings)"
   ]
  },
  {
   "cell_type": "markdown",
   "id": "comprehensive-candy",
   "metadata": {
    "id": "na1D0uVhUBE5"
   },
   "source": [
    "Perform TF-IDF and calculate Cosine similarity for TF-IDF embeddings\n",
    "--"
   ]
  },
  {
   "cell_type": "code",
   "execution_count": 20,
   "id": "unauthorized-thought",
   "metadata": {
    "id": "V2NRcYeUUBE6"
   },
   "outputs": [],
   "source": [
    "tfidf = TfidfVectorizer()\n",
    "vecs = tfidf.fit_transform(cont)\n",
    "tfidf_cosine_score = calc_sim(vecs)"
   ]
  },
  {
   "cell_type": "markdown",
   "id": "qualified-constant",
   "metadata": {},
   "source": [
    "Generate Link data using function\n",
    "--"
   ]
  },
  {
   "cell_type": "code",
   "execution_count": 21,
   "id": "hidden-toronto",
   "metadata": {
    "id": "iC-JnDtBUBE6"
   },
   "outputs": [],
   "source": [
    "def generate_link_data(title, all_title, filter_cond, df, lookup1, lookup2):\n",
    "    \"\"\"\n",
    "    Generate link data in matrix for vectorization\n",
    "    \"\"\"    \n",
    "    link_data = np.zeros((len(title),len(all_title)))\n",
    "    print(link_data.shape)\n",
    "    df = df[df[\"visit\"]>filter_cond]\n",
    "    for i, (s1, s2, v) in enumerate(zip(df[\"link1\"], df[\"link2\"], df[\"visit\"])):\n",
    "        if i % 1 == 0:\n",
    "            print(f\"Number of records processed : {i+1}\", end=\"\\r\")  \n",
    "        link_data[lookup1[s1]][lookup2[s2]]=1\n",
    "    return link_data"
   ]
  },
  {
   "cell_type": "markdown",
   "id": "focused-boundary",
   "metadata": {},
   "source": [
    "Function for computing the ratios\n",
    "--"
   ]
  },
  {
   "cell_type": "code",
   "execution_count": 22,
   "id": "sunset-championship",
   "metadata": {
    "id": "tt0y2oy8UBE7"
   },
   "outputs": [],
   "source": [
    "def compute_ratios(data, cosine_scores):\n",
    "    \"\"\"\n",
    "    Compute Visit to non-visit ratios\n",
    "    \"\"\"\n",
    "    visit = cosine_scores * data\n",
    "    visit_avg = np.sum(visit)/np.sum(data)\n",
    "    data_inv = 1 - data\n",
    "    non_visit = cosine_scores * data_inv\n",
    "    non_visit_avg = np.sum(non_visit)/np.sum(data_inv)\n",
    "\n",
    "    return visit_avg/non_visit_avg"
   ]
  },
  {
   "cell_type": "markdown",
   "id": "generous-beverage",
   "metadata": {},
   "source": [
    "Randomly allocating article titles to train and test dataset\n",
    "--"
   ]
  },
  {
   "cell_type": "code",
   "execution_count": 23,
   "id": "satellite-dynamics",
   "metadata": {
    "colab": {
     "base_uri": "https://localhost:8080/"
    },
    "id": "UNilCjqlUBE7",
    "outputId": "0f2a829e-7405-417e-aabf-cf0ac902cd77"
   },
   "outputs": [
    {
     "name": "stdout",
     "output_type": "stream",
     "text": [
      "Number of ids allocated to train: 13024\n",
      "Number of ids allocated to test: 3257\n"
     ]
    }
   ],
   "source": [
    "np.random.seed(seed=42)\n",
    "\n",
    "np.random.shuffle(all_ids)\n",
    "\n",
    "train = all_ids[:int(len(all_ids)*0.8)]\n",
    "test = all_ids[int(len(all_ids)*0.8):]\n",
    "\n",
    "print(f\"Number of ids allocated to train: {len(train)}\")\n",
    "print(f\"Number of ids allocated to test: {len(test)}\")"
   ]
  },
  {
   "cell_type": "markdown",
   "id": "mechanical-maple",
   "metadata": {},
   "source": [
    "Checking the overlapping articles with Link data as Link data does not have the complete set of articles\n",
    "--"
   ]
  },
  {
   "cell_type": "code",
   "execution_count": 24,
   "id": "married-problem",
   "metadata": {
    "colab": {
     "base_uri": "https://localhost:8080/"
    },
    "id": "AsVi1c9RUBE7",
    "outputId": "2a9ac563-2cdb-4b7c-8516-7712aca35952"
   },
   "outputs": [
    {
     "name": "stdout",
     "output_type": "stream",
     "text": [
      "Number of train title in link dataframe: 2975\n",
      "Number of test title in link dataframe: 707\n"
     ]
    }
   ],
   "source": [
    "train_links = set(link_df[\"link1\"]) & set(train)\n",
    "test_links = set(link_df[\"link1\"]) & set(test)\n",
    "\n",
    "print(f\"Number of train title in link dataframe: {len(train_links)}\")\n",
    "print(f\"Number of test title in link dataframe: {len(test_links)}\")"
   ]
  },
  {
   "cell_type": "code",
   "execution_count": 25,
   "id": "recent-placement",
   "metadata": {
    "id": "UqSGEycxUBE8"
   },
   "outputs": [],
   "source": [
    "assert len(train_links) + len(test_links) == len(set(link_df[\"link1\"]) & set(train)) + len(set(link_df[\"link1\"]) & set(test))"
   ]
  },
  {
   "cell_type": "markdown",
   "id": "blind-hunter",
   "metadata": {},
   "source": [
    "Allocating Cosine Similarity and TF-IDF scores according to Train dataset\n",
    "--"
   ]
  },
  {
   "cell_type": "code",
   "execution_count": 73,
   "id": "higher-congo",
   "metadata": {
    "colab": {
     "base_uri": "https://localhost:8080/"
    },
    "id": "0t4pc5Y5UBE8",
    "outputId": "fc367339-c93a-4a76-f64c-35ae5cabccce"
   },
   "outputs": [
    {
     "name": "stdout",
     "output_type": "stream",
     "text": [
      "Train ids : [13633  1921 12140 ... 15436 15768  2376]\n",
      "Train Topic distribution cosine scores shape: (13024, 16281)\n",
      "Train Sentence Transformer cosine scores shape: (13024, 16281)\n",
      "Train TF-IDF scores shape: (13024, 16281)\n"
     ]
    }
   ],
   "source": [
    "tcs = np.array([id2index[t]for t in train])\n",
    "print(f\"Train ids : {tcs}\")\n",
    "assert tcs.shape[0] == len(train)\n",
    "\n",
    "train_td_cs = np_rep[tcs]\n",
    "print(f\"Train Topic distribution cosine scores shape: {train_td_cs.shape}\")\n",
    "assert tcs.shape[0] == train_td_cs.shape[0]\n",
    "\n",
    "train_cs = sent_cosine_scores[tcs]\n",
    "print(f\"Train Sentence Transformer cosine scores shape: {train_cs.shape}\")\n",
    "assert tcs.shape[0] == train_cs.shape[0]\n",
    "\n",
    "train_tf = tfidf_cosine_score[tcs]\n",
    "print(f\"Train TF-IDF scores shape: {train_tf.shape}\")\n",
    "assert tcs.shape[0] == train_cs.shape[0]"
   ]
  },
  {
   "cell_type": "markdown",
   "id": "excited-tyler",
   "metadata": {},
   "source": [
    "Allocating Cosine Similarity and TF-IDF scores according to Test dataset\n",
    "--"
   ]
  },
  {
   "cell_type": "code",
   "execution_count": 74,
   "id": "expected-campaign",
   "metadata": {
    "colab": {
     "base_uri": "https://localhost:8080/"
    },
    "id": "_pcskpCsUBE8",
    "outputId": "5995e430-a714-4f24-c102-549a1fa6585a"
   },
   "outputs": [
    {
     "name": "stdout",
     "output_type": "stream",
     "text": [
      "Test ids : [ 8551  3839 15427 ...   860 15795  7270]\n",
      "Test Topic distribution cosine scores shape: (3257, 16281)\n",
      "Test cosine scores shape: (3257, 16281)\n",
      "Test TF-IDF scores shape: (3257, 16281)\n"
     ]
    }
   ],
   "source": [
    "tcs = np.array([id2index[t]for t in test])\n",
    "print(f\"Test ids : {tcs}\")\n",
    "assert tcs.shape[0] == len(test)\n",
    "\n",
    "test_td_cs = np_rep[tcs]\n",
    "print(f\"Test Topic distribution cosine scores shape: {test_td_cs.shape}\")\n",
    "assert tcs.shape[0] == test_td_cs.shape[0]\n",
    "\n",
    "test_cs = sent_cosine_scores[tcs]\n",
    "print(f\"Test cosine scores shape: {test_cs.shape}\")\n",
    "assert tcs.shape[0] == test_cs.shape[0]\n",
    "\n",
    "test_tf = tfidf_cosine_score[tcs]\n",
    "print(f\"Test TF-IDF scores shape: {test_tf.shape}\")\n",
    "assert tcs.shape[0] == test_tf.shape[0]"
   ]
  },
  {
   "cell_type": "markdown",
   "id": "clear-questionnaire",
   "metadata": {},
   "source": [
    "Create Train and Test dictionary to view the visitor count against each document id\n",
    "--"
   ]
  },
  {
   "cell_type": "code",
   "execution_count": 29,
   "id": "combined-extension",
   "metadata": {
    "id": "E6Ezo2-GUBE9"
   },
   "outputs": [],
   "source": [
    "def create_train_n_test_dictionary(links):\n",
    "    dict_ = defaultdict(list)    \n",
    "    for i in links:\n",
    "        l2 = link_df[link_df[\"link1\"]==i][\"link2\"]\n",
    "        visit = link_df[link_df[\"link1\"]==i][\"visit\"]\n",
    "        for j, (l2, v) in enumerate(zip(l2, visit)):\n",
    "            dict_[\"link1\"].append(i)\n",
    "            dict_[\"link2\"].append(l2)\n",
    "            dict_[\"visit\"].append(v)   \n",
    "    return dict_"
   ]
  },
  {
   "cell_type": "code",
   "execution_count": 30,
   "id": "accredited-installation",
   "metadata": {
    "colab": {
     "base_uri": "https://localhost:8080/",
     "height": 412
    },
    "id": "ZeP-qJqBUBE9",
    "outputId": "27a9686d-d58b-4d4f-ea07-440c7daaef02"
   },
   "outputs": [
    {
     "data": {
      "text/html": [
       "<div>\n",
       "<style scoped>\n",
       "    .dataframe tbody tr th:only-of-type {\n",
       "        vertical-align: middle;\n",
       "    }\n",
       "\n",
       "    .dataframe tbody tr th {\n",
       "        vertical-align: top;\n",
       "    }\n",
       "\n",
       "    .dataframe thead th {\n",
       "        text-align: right;\n",
       "    }\n",
       "</style>\n",
       "<table border=\"1\" class=\"dataframe\">\n",
       "  <thead>\n",
       "    <tr style=\"text-align: right;\">\n",
       "      <th></th>\n",
       "      <th>link1</th>\n",
       "      <th>link2</th>\n",
       "      <th>visit</th>\n",
       "    </tr>\n",
       "  </thead>\n",
       "  <tbody>\n",
       "    <tr>\n",
       "      <th>0</th>\n",
       "      <td>5df11e27ac70c8d478e7dc3b</td>\n",
       "      <td>5df11e28ac70c8d478e7dc81</td>\n",
       "      <td>2</td>\n",
       "    </tr>\n",
       "    <tr>\n",
       "      <th>1</th>\n",
       "      <td>5df11e27ac70c8d478e7dc3b</td>\n",
       "      <td>5df11e26ac70c8d478e7dbb9</td>\n",
       "      <td>2</td>\n",
       "    </tr>\n",
       "    <tr>\n",
       "      <th>2</th>\n",
       "      <td>5df11e27ac70c8d478e7dc3b</td>\n",
       "      <td>5df11e28ac70c8d478e7dc4c</td>\n",
       "      <td>2</td>\n",
       "    </tr>\n",
       "    <tr>\n",
       "      <th>3</th>\n",
       "      <td>5df11e27ac70c8d478e7dc3b</td>\n",
       "      <td>5df11e4aac70c8d478e7dd36</td>\n",
       "      <td>2</td>\n",
       "    </tr>\n",
       "    <tr>\n",
       "      <th>4</th>\n",
       "      <td>5e0fbc61faa4a8dd50bf3b5c</td>\n",
       "      <td>5ceeecc3f6610e04a9091b13</td>\n",
       "      <td>18</td>\n",
       "    </tr>\n",
       "    <tr>\n",
       "      <th>...</th>\n",
       "      <td>...</td>\n",
       "      <td>...</td>\n",
       "      <td>...</td>\n",
       "    </tr>\n",
       "    <tr>\n",
       "      <th>156779</th>\n",
       "      <td>601c06510f45990044676115</td>\n",
       "      <td>5df11e27ac70c8d478e7dc3e</td>\n",
       "      <td>2</td>\n",
       "    </tr>\n",
       "    <tr>\n",
       "      <th>156780</th>\n",
       "      <td>601c06510f45990044676115</td>\n",
       "      <td>5df11e28ac70c8d478e7dc90</td>\n",
       "      <td>2</td>\n",
       "    </tr>\n",
       "    <tr>\n",
       "      <th>156781</th>\n",
       "      <td>601c06510f45990044676115</td>\n",
       "      <td>5e971a77818be7003da8948a</td>\n",
       "      <td>2</td>\n",
       "    </tr>\n",
       "    <tr>\n",
       "      <th>156782</th>\n",
       "      <td>601c06510f45990044676115</td>\n",
       "      <td>5fa339d602425d004adbbcd0</td>\n",
       "      <td>2</td>\n",
       "    </tr>\n",
       "    <tr>\n",
       "      <th>156783</th>\n",
       "      <td>5df2ca58ac70c8d478e7df27</td>\n",
       "      <td>5ceeecc3f6610e04a9091ad8</td>\n",
       "      <td>2</td>\n",
       "    </tr>\n",
       "  </tbody>\n",
       "</table>\n",
       "<p>156784 rows × 3 columns</p>\n",
       "</div>"
      ],
      "text/plain": [
       "                           link1                     link2  visit\n",
       "0       5df11e27ac70c8d478e7dc3b  5df11e28ac70c8d478e7dc81      2\n",
       "1       5df11e27ac70c8d478e7dc3b  5df11e26ac70c8d478e7dbb9      2\n",
       "2       5df11e27ac70c8d478e7dc3b  5df11e28ac70c8d478e7dc4c      2\n",
       "3       5df11e27ac70c8d478e7dc3b  5df11e4aac70c8d478e7dd36      2\n",
       "4       5e0fbc61faa4a8dd50bf3b5c  5ceeecc3f6610e04a9091b13     18\n",
       "...                          ...                       ...    ...\n",
       "156779  601c06510f45990044676115  5df11e27ac70c8d478e7dc3e      2\n",
       "156780  601c06510f45990044676115  5df11e28ac70c8d478e7dc90      2\n",
       "156781  601c06510f45990044676115  5e971a77818be7003da8948a      2\n",
       "156782  601c06510f45990044676115  5fa339d602425d004adbbcd0      2\n",
       "156783  5df2ca58ac70c8d478e7df27  5ceeecc3f6610e04a9091ad8      2\n",
       "\n",
       "[156784 rows x 3 columns]"
      ]
     },
     "execution_count": 30,
     "metadata": {
      "tags": []
     },
     "output_type": "execute_result"
    }
   ],
   "source": [
    "dict_ = create_train_n_test_dictionary(train_links)\n",
    "train_df = pd.DataFrame.from_dict(dict_)\n",
    "train_df"
   ]
  },
  {
   "cell_type": "code",
   "execution_count": 31,
   "id": "missing-publisher",
   "metadata": {
    "colab": {
     "base_uri": "https://localhost:8080/",
     "height": 412
    },
    "id": "Sm7m2dwKUBE9",
    "outputId": "658c0589-167a-4485-db57-450c33a367ef"
   },
   "outputs": [
    {
     "data": {
      "text/html": [
       "<div>\n",
       "<style scoped>\n",
       "    .dataframe tbody tr th:only-of-type {\n",
       "        vertical-align: middle;\n",
       "    }\n",
       "\n",
       "    .dataframe tbody tr th {\n",
       "        vertical-align: top;\n",
       "    }\n",
       "\n",
       "    .dataframe thead th {\n",
       "        text-align: right;\n",
       "    }\n",
       "</style>\n",
       "<table border=\"1\" class=\"dataframe\">\n",
       "  <thead>\n",
       "    <tr style=\"text-align: right;\">\n",
       "      <th></th>\n",
       "      <th>link1</th>\n",
       "      <th>link2</th>\n",
       "      <th>visit</th>\n",
       "    </tr>\n",
       "  </thead>\n",
       "  <tbody>\n",
       "    <tr>\n",
       "      <th>0</th>\n",
       "      <td>5e0fbd28faa4a8dd50bf3d53</td>\n",
       "      <td>5d9cf3ba6ad6fb21399ac7de</td>\n",
       "      <td>2</td>\n",
       "    </tr>\n",
       "    <tr>\n",
       "      <th>1</th>\n",
       "      <td>5ceeeaa02102d07b1f75da0e</td>\n",
       "      <td>5ceeea9f2102d07b1f75d9e1</td>\n",
       "      <td>5</td>\n",
       "    </tr>\n",
       "    <tr>\n",
       "      <th>2</th>\n",
       "      <td>5ceeeaa02102d07b1f75da0e</td>\n",
       "      <td>5ceeeaa02102d07b1f75d9f0</td>\n",
       "      <td>4</td>\n",
       "    </tr>\n",
       "    <tr>\n",
       "      <th>3</th>\n",
       "      <td>5ceeeaa02102d07b1f75da0e</td>\n",
       "      <td>5ceeeaa22102d07b1f75da97</td>\n",
       "      <td>4</td>\n",
       "    </tr>\n",
       "    <tr>\n",
       "      <th>4</th>\n",
       "      <td>5ceeeaa02102d07b1f75da0e</td>\n",
       "      <td>5ceeeaa02102d07b1f75d9fd</td>\n",
       "      <td>3</td>\n",
       "    </tr>\n",
       "    <tr>\n",
       "      <th>...</th>\n",
       "      <td>...</td>\n",
       "      <td>...</td>\n",
       "      <td>...</td>\n",
       "    </tr>\n",
       "    <tr>\n",
       "      <th>33897</th>\n",
       "      <td>60944c8997a70a004864f510</td>\n",
       "      <td>609445a04f2070004708c049</td>\n",
       "      <td>2</td>\n",
       "    </tr>\n",
       "    <tr>\n",
       "      <th>33898</th>\n",
       "      <td>60944c8997a70a004864f510</td>\n",
       "      <td>609448cd97a70a004864f43a</td>\n",
       "      <td>2</td>\n",
       "    </tr>\n",
       "    <tr>\n",
       "      <th>33899</th>\n",
       "      <td>60944c8997a70a004864f510</td>\n",
       "      <td>609449c401df0700449da4c4</td>\n",
       "      <td>2</td>\n",
       "    </tr>\n",
       "    <tr>\n",
       "      <th>33900</th>\n",
       "      <td>60944c8997a70a004864f510</td>\n",
       "      <td>60944a1e4b7dd8004874dfb5</td>\n",
       "      <td>2</td>\n",
       "    </tr>\n",
       "    <tr>\n",
       "      <th>33901</th>\n",
       "      <td>60944c8997a70a004864f510</td>\n",
       "      <td>60944aaebd2003003b6cba81</td>\n",
       "      <td>2</td>\n",
       "    </tr>\n",
       "  </tbody>\n",
       "</table>\n",
       "<p>33902 rows × 3 columns</p>\n",
       "</div>"
      ],
      "text/plain": [
       "                          link1                     link2  visit\n",
       "0      5e0fbd28faa4a8dd50bf3d53  5d9cf3ba6ad6fb21399ac7de      2\n",
       "1      5ceeeaa02102d07b1f75da0e  5ceeea9f2102d07b1f75d9e1      5\n",
       "2      5ceeeaa02102d07b1f75da0e  5ceeeaa02102d07b1f75d9f0      4\n",
       "3      5ceeeaa02102d07b1f75da0e  5ceeeaa22102d07b1f75da97      4\n",
       "4      5ceeeaa02102d07b1f75da0e  5ceeeaa02102d07b1f75d9fd      3\n",
       "...                         ...                       ...    ...\n",
       "33897  60944c8997a70a004864f510  609445a04f2070004708c049      2\n",
       "33898  60944c8997a70a004864f510  609448cd97a70a004864f43a      2\n",
       "33899  60944c8997a70a004864f510  609449c401df0700449da4c4      2\n",
       "33900  60944c8997a70a004864f510  60944a1e4b7dd8004874dfb5      2\n",
       "33901  60944c8997a70a004864f510  60944aaebd2003003b6cba81      2\n",
       "\n",
       "[33902 rows x 3 columns]"
      ]
     },
     "execution_count": 31,
     "metadata": {
      "tags": []
     },
     "output_type": "execute_result"
    }
   ],
   "source": [
    "dict_ = create_train_n_test_dictionary(test_links)\n",
    "test_df = pd.DataFrame.from_dict(dict_)\n",
    "test_df"
   ]
  },
  {
   "cell_type": "code",
   "execution_count": 32,
   "id": "egyptian-refrigerator",
   "metadata": {
    "id": "XnVsY967UBE-"
   },
   "outputs": [],
   "source": [
    "assert set(train_df[\"link1\"]) != set(test_df[\"link1\"])"
   ]
  },
  {
   "cell_type": "markdown",
   "id": "balanced-plant",
   "metadata": {},
   "source": [
    "Computing averge visit to non-visit ratio for Train dataset\n",
    "--"
   ]
  },
  {
   "cell_type": "code",
   "execution_count": 34,
   "id": "impressed-paragraph",
   "metadata": {
    "colab": {
     "base_uri": "https://localhost:8080/"
    },
    "id": "fVI0QhNJUBE-",
    "outputId": "9864b029-7697-49a7-85b5-42edc0ad96d1"
   },
   "outputs": [
    {
     "name": "stdout",
     "output_type": "stream",
     "text": [
      "(13024, 16281)\n",
      "\n",
      "\n",
      "filter condition: visit count > 5\n",
      "Ratio of visit to non visit:\n",
      "Sentence Transformers: 2.395377987870224\n",
      "TF-IDF: 2.331400598354878\n",
      "\n"
     ]
    }
   ],
   "source": [
    "i=5\n",
    "train_lookup = {id:i for i, id in enumerate(train)}\n",
    "\n",
    "train_link_data = generate_link_data(train, all_ids, i, train_df, train_lookup, id2index)\n",
    "print(f\"\"\"\n",
    "\\nfilter condition: visit count > {i}\n",
    "Ratio of visit to non visit:\n",
    "Sentence Transformers: {compute_ratios(train_link_data, train_cs)}\n",
    "TF-IDF: {compute_ratios(train_link_data, train_tf)}\n",
    "\"\"\")"
   ]
  },
  {
   "cell_type": "markdown",
   "id": "planned-february",
   "metadata": {},
   "source": [
    "Computing averge visit to non-visit ratio for Test dataset\n",
    "--"
   ]
  },
  {
   "cell_type": "code",
   "execution_count": 35,
   "id": "controlled-robinson",
   "metadata": {
    "colab": {
     "base_uri": "https://localhost:8080/"
    },
    "id": "2XgaH59sUBE-",
    "outputId": "ac1ee81f-0a12-4ee6-eaf9-6c87e83f6571"
   },
   "outputs": [
    {
     "name": "stdout",
     "output_type": "stream",
     "text": [
      "(3257, 16281)\n",
      "Number of records processed : 1365\n",
      "\n",
      "filter condition: visit count > 5\n",
      "Ratio of visit to non visit:\n",
      "Sentence Transformers: 2.3925465744957153\n",
      "TF-IDF: 2.3483899753857873\n",
      "\n"
     ]
    }
   ],
   "source": [
    "i=5\n",
    "test_lookup = {id:i for i, id in enumerate(test)}\n",
    "\n",
    "test_link_data = generate_link_data(test, all_ids, i, test_df, test_lookup, id2index)\n",
    "#Gensim LDA topic modelling: {compute_ratios(test_link_data, test_td_cs)}\n",
    "print(f\"\"\"\n",
    "\\nfilter condition: visit count > {i}\n",
    "Ratio of visit to non visit:\n",
    "Sentence Transformers: {compute_ratios(test_link_data, test_cs)}\n",
    "TF-IDF: {compute_ratios(test_link_data, test_tf)}\n",
    "\"\"\")"
   ]
  },
  {
   "cell_type": "markdown",
   "id": "sapphire-ceiling",
   "metadata": {
    "id": "ttCwmwYZUBE-"
   },
   "source": [
    "**As expected, Sentence Transformers embeddings are more semantically coherent than TF-IDF. But the TF-IDF scores are high as well seems to be something wrong with the link data, therefore have to look for visitor count less than where we could find bad examples.**"
   ]
  },
  {
   "cell_type": "markdown",
   "id": "institutional-gallery",
   "metadata": {
    "id": "ofpQ8ea2UBE_"
   },
   "source": [
    "Some of the examples for visitor count less than 5 having urelated article link pairs\n",
    "--"
   ]
  },
  {
   "cell_type": "code",
   "execution_count": 36,
   "id": "silent-brisbane",
   "metadata": {
    "colab": {
     "base_uri": "https://localhost:8080/",
     "height": 963
    },
    "id": "KfwX76NqUBE_",
    "outputId": "fe6a5e9f-f6f6-4ef8-f5f8-b7c806bab7ea"
   },
   "outputs": [
    {
     "data": {
      "text/html": [
       "<div>\n",
       "<style scoped>\n",
       "    .dataframe tbody tr th:only-of-type {\n",
       "        vertical-align: middle;\n",
       "    }\n",
       "\n",
       "    .dataframe tbody tr th {\n",
       "        vertical-align: top;\n",
       "    }\n",
       "\n",
       "    .dataframe thead th {\n",
       "        text-align: right;\n",
       "    }\n",
       "</style>\n",
       "<table border=\"1\" class=\"dataframe\">\n",
       "  <thead>\n",
       "    <tr style=\"text-align: right;\">\n",
       "      <th></th>\n",
       "      <th>link1</th>\n",
       "      <th>link2</th>\n",
       "      <th>visit</th>\n",
       "    </tr>\n",
       "  </thead>\n",
       "  <tbody>\n",
       "    <tr>\n",
       "      <th>8600</th>\n",
       "      <td>Digital Marketing Specialist</td>\n",
       "      <td>Supply Chain Manager</td>\n",
       "      <td>4</td>\n",
       "    </tr>\n",
       "    <tr>\n",
       "      <th>8601</th>\n",
       "      <td>The Five Step Nursing Process</td>\n",
       "      <td>How To Write an Action Plan To Achieve Your Goals</td>\n",
       "      <td>4</td>\n",
       "    </tr>\n",
       "    <tr>\n",
       "      <th>8602</th>\n",
       "      <td>5 Common Interview Questions About Conflict (With Example Answers)</td>\n",
       "      <td>8 Team-Building Activities for Improving Communication (With Tips)</td>\n",
       "      <td>4</td>\n",
       "    </tr>\n",
       "    <tr>\n",
       "      <th>8603</th>\n",
       "      <td>How to Answer “What Motivates You?” (With Examples)</td>\n",
       "      <td>6 Examples of Critical Thinking Skills</td>\n",
       "      <td>4</td>\n",
       "    </tr>\n",
       "    <tr>\n",
       "      <th>8604</th>\n",
       "      <td>12 Tough Interview Questions and Answers</td>\n",
       "      <td>4 Ways To Improve Organizational Climate</td>\n",
       "      <td>4</td>\n",
       "    </tr>\n",
       "    <tr>\n",
       "      <th>8605</th>\n",
       "      <td>31 Tips for Working in a Call Center</td>\n",
       "      <td>Learn About Being an Accounting Assistant</td>\n",
       "      <td>4</td>\n",
       "    </tr>\n",
       "    <tr>\n",
       "      <th>8606</th>\n",
       "      <td>Leadership Skills: Definitions and Examples</td>\n",
       "      <td>Functional Resume: Definition, Tips and Examples</td>\n",
       "      <td>4</td>\n",
       "    </tr>\n",
       "    <tr>\n",
       "      <th>8607</th>\n",
       "      <td>Journeyman Electrician</td>\n",
       "      <td>Quality Assurance Analyst</td>\n",
       "      <td>4</td>\n",
       "    </tr>\n",
       "    <tr>\n",
       "      <th>8608</th>\n",
       "      <td>10 Key Areas of Development for Employees (with Examples and Tips)</td>\n",
       "      <td>How to Write a Self-Appraisal</td>\n",
       "      <td>4</td>\n",
       "    </tr>\n",
       "    <tr>\n",
       "      <th>8609</th>\n",
       "      <td>Medical Assistant Vs. Nurse: Differences and Similarities</td>\n",
       "      <td>9 Ways To Improve Your Personal Development Skills</td>\n",
       "      <td>4</td>\n",
       "    </tr>\n",
       "    <tr>\n",
       "      <th>8610</th>\n",
       "      <td>Transferable Skills: Definitions and Examples</td>\n",
       "      <td>Active Listening Skills: Definition and Examples</td>\n",
       "      <td>4</td>\n",
       "    </tr>\n",
       "    <tr>\n",
       "      <th>8611</th>\n",
       "      <td>100 Ways to Thank Someone For Their Time</td>\n",
       "      <td>45 Performance Evaluation Comments for Your Team</td>\n",
       "      <td>4</td>\n",
       "    </tr>\n",
       "    <tr>\n",
       "      <th>8612</th>\n",
       "      <td>Interview Question: \"Tell Me About Your Work Experience\" (With Example Answers)</td>\n",
       "      <td>How to Develop Your Skill Set to Advance Your Career</td>\n",
       "      <td>4</td>\n",
       "    </tr>\n",
       "    <tr>\n",
       "      <th>8613</th>\n",
       "      <td>Automotive Mechanic</td>\n",
       "      <td>Quality Control Manager</td>\n",
       "      <td>4</td>\n",
       "    </tr>\n",
       "    <tr>\n",
       "      <th>8614</th>\n",
       "      <td>List of Weaknesses: 10 Things To Say in an Interview</td>\n",
       "      <td>Learn About Being an Audiologist</td>\n",
       "      <td>4</td>\n",
       "    </tr>\n",
       "    <tr>\n",
       "      <th>8615</th>\n",
       "      <td>4 Ways To Improve Organizational Climate</td>\n",
       "      <td>How To Demonstrate Leadership Skills at Work</td>\n",
       "      <td>4</td>\n",
       "    </tr>\n",
       "    <tr>\n",
       "      <th>8616</th>\n",
       "      <td>10 Personal Traits to Include on Your Resume</td>\n",
       "      <td>Leadership Skills: Definitions and Examples</td>\n",
       "      <td>4</td>\n",
       "    </tr>\n",
       "    <tr>\n",
       "      <th>8617</th>\n",
       "      <td>125 Common Interview Questions and Answers (With Tips)</td>\n",
       "      <td>Learn About Being an Aeronautical Engineer</td>\n",
       "      <td>4</td>\n",
       "    </tr>\n",
       "    <tr>\n",
       "      <th>8618</th>\n",
       "      <td>125 Common Interview Questions and Answers (With Tips)</td>\n",
       "      <td>Learn About Being an Assistant Controller</td>\n",
       "      <td>4</td>\n",
       "    </tr>\n",
       "    <tr>\n",
       "      <th>8619</th>\n",
       "      <td>8 Types of Motivation To Achieve Your Goals</td>\n",
       "      <td>7 Skills of Effective Team Leaders</td>\n",
       "      <td>4</td>\n",
       "    </tr>\n",
       "    <tr>\n",
       "      <th>8620</th>\n",
       "      <td>Accounting Technician vs. Accountant: What They Are and How They Differ</td>\n",
       "      <td>Learn About Being an Audiologist</td>\n",
       "      <td>4</td>\n",
       "    </tr>\n",
       "    <tr>\n",
       "      <th>8621</th>\n",
       "      <td>Learn About Being an Assistant Store Manager</td>\n",
       "      <td>Learn About Being an Astrophysicist</td>\n",
       "      <td>4</td>\n",
       "    </tr>\n",
       "    <tr>\n",
       "      <th>8622</th>\n",
       "      <td>33 Performance Review Examples and Sample Phrases</td>\n",
       "      <td>Cognitive Learning: Definition, Benefits and Examples</td>\n",
       "      <td>4</td>\n",
       "    </tr>\n",
       "    <tr>\n",
       "      <th>8623</th>\n",
       "      <td>Supply Chain Manager</td>\n",
       "      <td>Service Technician</td>\n",
       "      <td>4</td>\n",
       "    </tr>\n",
       "    <tr>\n",
       "      <th>8624</th>\n",
       "      <td>9 Tips for Following Up on the Status of a Job Application</td>\n",
       "      <td>How to Follow Up on a Job Application</td>\n",
       "      <td>4</td>\n",
       "    </tr>\n",
       "    <tr>\n",
       "      <th>8625</th>\n",
       "      <td>The Best Methods for Teaching Excellent Communication Skills</td>\n",
       "      <td>Types of Figurative Language (With Examples)</td>\n",
       "      <td>4</td>\n",
       "    </tr>\n",
       "    <tr>\n",
       "      <th>8626</th>\n",
       "      <td>35 Behavioral Interview Questions to Prepare For (with Example Answers)</td>\n",
       "      <td>The Importance of Positive Feedback and How To Deliver It To Others</td>\n",
       "      <td>4</td>\n",
       "    </tr>\n",
       "    <tr>\n",
       "      <th>8627</th>\n",
       "      <td>Business Degree Guide: 10 Types of Business Majors and the Differences Between Them</td>\n",
       "      <td>12 Human Resources Jobs That Pay Well</td>\n",
       "      <td>4</td>\n",
       "    </tr>\n",
       "    <tr>\n",
       "      <th>8628</th>\n",
       "      <td>How To Ask for a Letter of Recommendation (With Examples)</td>\n",
       "      <td>How to Write an Academic Recommendation Letter: Examples and Tips</td>\n",
       "      <td>4</td>\n",
       "    </tr>\n",
       "    <tr>\n",
       "      <th>8629</th>\n",
       "      <td>Complete Guide to Ethical Leadership (with Examples)</td>\n",
       "      <td>10 Career Development Goals</td>\n",
       "      <td>4</td>\n",
       "    </tr>\n",
       "  </tbody>\n",
       "</table>\n",
       "</div>"
      ],
      "text/plain": [
       "                                                                                    link1  ... visit\n",
       "8600                                                         Digital Marketing Specialist  ...     4\n",
       "8601                                                        The Five Step Nursing Process  ...     4\n",
       "8602                   5 Common Interview Questions About Conflict (With Example Answers)  ...     4\n",
       "8603                                  How to Answer “What Motivates You?” (With Examples)  ...     4\n",
       "8604                                             12 Tough Interview Questions and Answers  ...     4\n",
       "8605                                                 31 Tips for Working in a Call Center  ...     4\n",
       "8606                                          Leadership Skills: Definitions and Examples  ...     4\n",
       "8607                                                               Journeyman Electrician  ...     4\n",
       "8608                   10 Key Areas of Development for Employees (with Examples and Tips)  ...     4\n",
       "8609                            Medical Assistant Vs. Nurse: Differences and Similarities  ...     4\n",
       "8610                                        Transferable Skills: Definitions and Examples  ...     4\n",
       "8611                                             100 Ways to Thank Someone For Their Time  ...     4\n",
       "8612      Interview Question: \"Tell Me About Your Work Experience\" (With Example Answers)  ...     4\n",
       "8613                                                                  Automotive Mechanic  ...     4\n",
       "8614                                 List of Weaknesses: 10 Things To Say in an Interview  ...     4\n",
       "8615                                             4 Ways To Improve Organizational Climate  ...     4\n",
       "8616                                         10 Personal Traits to Include on Your Resume  ...     4\n",
       "8617                               125 Common Interview Questions and Answers (With Tips)  ...     4\n",
       "8618                               125 Common Interview Questions and Answers (With Tips)  ...     4\n",
       "8619                                          8 Types of Motivation To Achieve Your Goals  ...     4\n",
       "8620              Accounting Technician vs. Accountant: What They Are and How They Differ  ...     4\n",
       "8621                                         Learn About Being an Assistant Store Manager  ...     4\n",
       "8622                                    33 Performance Review Examples and Sample Phrases  ...     4\n",
       "8623                                                                 Supply Chain Manager  ...     4\n",
       "8624                           9 Tips for Following Up on the Status of a Job Application  ...     4\n",
       "8625                         The Best Methods for Teaching Excellent Communication Skills  ...     4\n",
       "8626              35 Behavioral Interview Questions to Prepare For (with Example Answers)  ...     4\n",
       "8627  Business Degree Guide: 10 Types of Business Majors and the Differences Between Them  ...     4\n",
       "8628                            How To Ask for a Letter of Recommendation (With Examples)  ...     4\n",
       "8629                                 Complete Guide to Ethical Leadership (with Examples)  ...     4\n",
       "\n",
       "[30 rows x 3 columns]"
      ]
     },
     "execution_count": 36,
     "metadata": {
      "tags": []
     },
     "output_type": "execute_result"
    }
   ],
   "source": [
    "link_df_titles[link_df_titles[\"visit\"]<5].iloc[6:].head(30)"
   ]
  },
  {
   "cell_type": "markdown",
   "id": "formal-vegetable",
   "metadata": {
    "id": "BVtx4YTyUBE_"
   },
   "source": [
    "Evaluations of Representations of New Articles with Reduced Dimensionality used for clustering\n",
    "--"
   ]
  },
  {
   "cell_type": "code",
   "execution_count": 37,
   "id": "general-audio",
   "metadata": {
    "id": "0IW5_2S3UBE_"
   },
   "outputs": [],
   "source": [
    "#Using neighbors=15 and n_components=2\n",
    "np.random.seed(seed=42)\n",
    "umap_model = umap.UMAP(n_neighbors=15,\n",
    "                       n_components=2,\n",
    "                       metric='cosine')\n",
    "\n",
    "umap_data = umap_model.fit_transform(sent_embeddings)"
   ]
  },
  {
   "cell_type": "code",
   "execution_count": 38,
   "id": "august-kernel",
   "metadata": {
    "colab": {
     "base_uri": "https://localhost:8080/"
    },
    "id": "163nbGhkUBFA",
    "outputId": "55c36479-8901-4bab-edc2-52fed950459f"
   },
   "outputs": [
    {
     "data": {
      "text/plain": [
       "(16281, 2)"
      ]
     },
     "execution_count": 38,
     "metadata": {
      "tags": []
     },
     "output_type": "execute_result"
    }
   ],
   "source": [
    "umap_data.shape"
   ]
  },
  {
   "cell_type": "code",
   "execution_count": 39,
   "id": "innocent-terrace",
   "metadata": {
    "id": "_MXPMv3bUBFA"
   },
   "outputs": [],
   "source": [
    "test_ids = np.array([id2index[t] for t in test])\n",
    "train_ids = np.array([id2index[t] for t in train])\n",
    "train_embeddings = umap_data[train_ids]\n",
    "test_embeddings = umap_data[test_ids]"
   ]
  },
  {
   "cell_type": "code",
   "execution_count": 40,
   "id": "present-reverse",
   "metadata": {
    "colab": {
     "base_uri": "https://localhost:8080/"
    },
    "id": "Gcr9EiMBUBFA",
    "outputId": "ac0da3b1-b88a-4fbe-94a1-11fed8be92c2"
   },
   "outputs": [
    {
     "data": {
      "text/plain": [
       "((13024, 2), (3257, 2))"
      ]
     },
     "execution_count": 40,
     "metadata": {
      "tags": []
     },
     "output_type": "execute_result"
    }
   ],
   "source": [
    "train_embeddings.shape, test_embeddings.shape"
   ]
  },
  {
   "cell_type": "code",
   "execution_count": 41,
   "id": "linear-vietnamese",
   "metadata": {
    "id": "fM6TMriSUBFB"
   },
   "outputs": [],
   "source": [
    "umap_scores = calc_sim(umap_data)"
   ]
  },
  {
   "cell_type": "code",
   "execution_count": 42,
   "id": "ignored-cleaning",
   "metadata": {
    "id": "uMyXuPdzUBFB"
   },
   "outputs": [],
   "source": [
    "train_cosine_scores = umap_scores[train_ids, :]\n",
    "test_cosine_scores = umap_scores[test_ids, :]"
   ]
  },
  {
   "cell_type": "code",
   "execution_count": 43,
   "id": "altered-nomination",
   "metadata": {
    "colab": {
     "base_uri": "https://localhost:8080/"
    },
    "id": "R_WmjqjhUBFC",
    "outputId": "6e763d03-b8bb-4247-9bbe-e5db5dbbde7c"
   },
   "outputs": [
    {
     "data": {
      "text/plain": [
       "((13024, 16281), (3257, 16281))"
      ]
     },
     "execution_count": 43,
     "metadata": {
      "tags": []
     },
     "output_type": "execute_result"
    }
   ],
   "source": [
    "train_cosine_scores.shape, test_cosine_scores.shape "
   ]
  },
  {
   "cell_type": "code",
   "execution_count": 79,
   "id": "limiting-islam",
   "metadata": {
    "colab": {
     "base_uri": "https://localhost:8080/"
    },
    "id": "Rg9OH6lEUBFC",
    "outputId": "ddb27c64-98ae-4822-8c2f-0c83362633a7"
   },
   "outputs": [
    {
     "name": "stdout",
     "output_type": "stream",
     "text": [
      "(13024, 16281)\n",
      "\n",
      "\n",
      "filter condition: visit count > 5\n",
      "Ratio of visit to non visit:\n",
      "Sentence Transformers: 2.747890680721183\n",
      "TF-IDF: 2.331400598354878\n",
      "\n"
     ]
    }
   ],
   "source": [
    "i=5\n",
    "train_lookup = {id:i for i, id in enumerate(train)}\n",
    "\n",
    "train_link_data = generate_link_data(train, all_ids, i, train_df, train_lookup, id2index)\n",
    "\n",
    "print(f\"\"\"\n",
    "\\nfilter condition: visit count > {i}\n",
    "Ratio of visit to non visit:\n",
    "Sentence Transformers: {compute_ratios(train_link_data, train_cosine_scores)}\n",
    "TF-IDF: {compute_ratios(train_link_data, train_tf)}\n",
    "\"\"\")"
   ]
  },
  {
   "cell_type": "code",
   "execution_count": 80,
   "id": "compliant-individual",
   "metadata": {
    "colab": {
     "base_uri": "https://localhost:8080/"
    },
    "id": "gAnEOXIeUBFC",
    "outputId": "aa37a53c-34e7-4909-f332-d99c2c536bb1"
   },
   "outputs": [
    {
     "name": "stdout",
     "output_type": "stream",
     "text": [
      "(3257, 16281)\n",
      "Number of records processed : 1365\n",
      "\n",
      "filter condition: visit count > 5\n",
      "Ratio of visit to non visit:\n",
      "Sentence Transformers: 2.557969728604866\n",
      "TF-IDF: 2.3483899753857873\n",
      "\n"
     ]
    }
   ],
   "source": [
    "i=5\n",
    "test_lookup = {id:i for i, id in enumerate(test)}\n",
    "\n",
    "test_link_data = generate_link_data(test, all_ids, i, test_df, test_lookup, id2index)\n",
    "print(f\"\"\"\n",
    "\\nfilter condition: visit count > {i}\n",
    "Ratio of visit to non visit:\n",
    "Sentence Transformers: {compute_ratios(test_link_data, test_cosine_scores)}\n",
    "TF-IDF: {compute_ratios(test_link_data, test_tf)}\n",
    "\"\"\")"
   ]
  },
  {
   "cell_type": "markdown",
   "id": "impressive-private",
   "metadata": {
    "id": "uqQE9mZlUBFD"
   },
   "source": [
    "**Sentence transformers embeddings are doing comparitively better than TF-IDF embeddings and sentence transformers embeddings even after dimensionality reduction performs better  as UMAP seems to maintain the local structure of the embeddings at reduces dimension.**"
   ]
  },
  {
   "cell_type": "markdown",
   "id": "tested-payday",
   "metadata": {
    "id": "CNfi-ScPUBEt"
   },
   "source": [
    "Gensim Lda Topic Distribution Embedding\n",
    "--"
   ]
  },
  {
   "cell_type": "code",
   "execution_count": 46,
   "id": "bottom-reading",
   "metadata": {
    "id": "gVRlDHYXUBEt"
   },
   "outputs": [],
   "source": [
    "f = open(f\"{path}article_20210503_to_20210525.json\", encoding=\"utf-8\")\n",
    "test_train = []\n",
    "for line in f:\n",
    "    test_train.append(json.loads(line))\n",
    "test_train = pd.DataFrame(pd.DataFrame(test_train))"
   ]
  },
  {
   "cell_type": "code",
   "execution_count": 47,
   "id": "systematic-fishing",
   "metadata": {
    "id": "QtlUYrZIUBEt"
   },
   "outputs": [],
   "source": [
    "rltd_arts, art_train = get_corpus(art_train, \"content\")\n",
    "cl_train = remove_hyperlinks_html_tags(cl_train, \"contentA\")\n",
    "res_train  = remove_hyperlinks_html_tags(res_train, \"contentA\")"
   ]
  },
  {
   "cell_type": "code",
   "execution_count": 48,
   "id": "central-tourism",
   "metadata": {
    "id": "ZLqrc9RPUBEt"
   },
   "outputs": [],
   "source": [
    "cp_train  = remove_hyperlinks_html_tags(cp_train, \"primaryContent\")"
   ]
  },
  {
   "cell_type": "code",
   "execution_count": 49,
   "id": "advanced-latest",
   "metadata": {
    "id": "i5iD8JtsUBEu"
   },
   "outputs": [],
   "source": [
    "from gensim.utils import simple_preprocess\n",
    "def strip_newline(series):\n",
    "    \"\"\"\n",
    "    stripping out new line\n",
    "    \"\"\"                    \n",
    "    return [review.replace('\\n','') for review in series]\n",
    "def sent_to_words(sentences):\n",
    "    \"\"\"\n",
    "    Converting sentence to words\n",
    "    \"\"\"                \n",
    "    for sentence in sentences:\n",
    "        yield(gensim.utils.simple_preprocess(str(sentence), deacc=True))\n",
    "        \n",
    "def remove_stopwords(texts):\n",
    "    \"\"\"\n",
    "    Used for removing stopwords\n",
    "    \"\"\"            \n",
    "    return [[word for word in simple_preprocess(str(doc)) if word not in stop_words] for doc in texts]\n",
    "\n",
    "def bigrams(words, bi_min=15, tri_min=10):\n",
    "    \"\"\"\n",
    "    Find the bigrams in the content of the article\n",
    "    \"\"\"        \n",
    "    bigram = gensim.models.Phrases(words, min_count = bi_min)\n",
    "    bigram_mod = gensim.models.phrases.Phraser(bigram)\n",
    "    return bigram_mod\n",
    "\n",
    "def get_bigram(df):\n",
    "    if 'content' in df:\n",
    "        df_content = strip_newline(df.content)\n",
    "    elif 'contentA' in df:\n",
    "        df_content = df['contentA'] + ' ' + df['contentB']\n",
    "    elif 'primaryContent' in df:\n",
    "        df_content = df['primaryContent']\n",
    "    words = list(sent_to_words(df_content))\n",
    "    words = remove_stopwords(words)\n",
    "    bigram = bigrams(words)\n",
    "    bigram = [bigram[review] for review in words]\n",
    "    return bigram"
   ]
  },
  {
   "cell_type": "code",
   "execution_count": 50,
   "id": "blond-billion",
   "metadata": {
    "id": "WCJSir5xUBEu"
   },
   "outputs": [],
   "source": [
    "art_bigram = get_bigram(art_train)\n",
    "cp_bigram = get_bigram(cp_train)\n",
    "cl_bigram = get_bigram(cl_train)\n",
    "res_bigram = get_bigram(res_train)"
   ]
  },
  {
   "cell_type": "code",
   "execution_count": 51,
   "id": "golden-provision",
   "metadata": {
    "id": "Bc-I6vuLUBEu"
   },
   "outputs": [],
   "source": [
    "# prediction on new articles\n",
    "test_art_bigram = get_bigram(test_train)"
   ]
  },
  {
   "cell_type": "markdown",
   "id": "empty-fusion",
   "metadata": {
    "id": "lFeVrK9OUBEv"
   },
   "source": [
    "### Gensim LDA model"
   ]
  },
  {
   "cell_type": "code",
   "execution_count": 52,
   "id": "thermal-surprise",
   "metadata": {
    "id": "JXIUpjJ5UBEv"
   },
   "outputs": [],
   "source": [
    "from gensim.corpora.dictionary import Dictionary\n",
    "train_dict = Dictionary(art_bigram)\n",
    "train_corpus = [train_dict.doc2bow(text) for text in art_bigram]\n",
    "lda_30 = gensim.models.LdaModel(train_corpus,\n",
    "                            num_topics=30,\n",
    "                            id2word=train_dict,\n",
    "                            chunksize=100,\n",
    "                            random_state=10,\n",
    "                            passes=20,\n",
    "                            alpha=0.01)"
   ]
  },
  {
   "cell_type": "code",
   "execution_count": 53,
   "id": "personal-french",
   "metadata": {
    "id": "S0NBAIG_UBEw"
   },
   "outputs": [],
   "source": [
    "cp_corpus = [train_dict.doc2bow(text) for text in cp_bigram]\n",
    "cl_corpus = [train_dict.doc2bow(text) for text in cl_bigram]\n",
    "res_corpus = [train_dict.doc2bow(text) for text in res_bigram]"
   ]
  },
  {
   "cell_type": "code",
   "execution_count": 54,
   "id": "present-diary",
   "metadata": {
    "id": "g1Ey8Lk1UBEw"
   },
   "outputs": [],
   "source": [
    "# prediction on new articles\n",
    "test_corpus = [train_dict.doc2bow(text) for text in test_art_bigram]"
   ]
  },
  {
   "cell_type": "markdown",
   "id": "integral-supplier",
   "metadata": {
    "id": "uqMiqBFHUBEx"
   },
   "source": [
    "### Embedding"
   ]
  },
  {
   "cell_type": "code",
   "execution_count": 55,
   "id": "extensive-dressing",
   "metadata": {
    "id": "dmiEeS9vUBEx"
   },
   "outputs": [],
   "source": [
    "urlRoute_set = set()\n",
    "urlRoute_list = []\n",
    "for urlRoute in art_train['urlRoute'].tolist():\n",
    "    urlRoute_set.add(urlRoute)\n",
    "    urlRoute_list.append(urlRoute)\n",
    "for urlRoute in cp_train['urlRoute'].tolist():\n",
    "    urlRoute_set.add(urlRoute)\n",
    "    urlRoute_list.append(urlRoute)\n",
    "for urlRoute in cl_train['urlRoute'].tolist():\n",
    "    urlRoute_set.add(urlRoute)\n",
    "    urlRoute_list.append(urlRoute)\n",
    "for urlRoute in res_train['urlRoute'].tolist():\n",
    "    urlRoute_set.add(urlRoute)\n",
    "    urlRoute_list.append(urlRoute)\n",
    "for urlRoute in test_train['urlRoute'].tolist():\n",
    "    urlRoute_set.add(urlRoute)\n",
    "    urlRoute_list.append(urlRoute)"
   ]
  },
  {
   "cell_type": "markdown",
   "id": "statutory-administration",
   "metadata": {
    "id": "CX-vGH0sUBEx"
   },
   "source": [
    "We used the best model from above to generate the document distributions over the 30 topics. Frist thing we need to do is to pad those topics with 0 probability, so that the matrix we come up with will have consistant dimension."
   ]
  },
  {
   "cell_type": "code",
   "execution_count": 56,
   "id": "completed-glass",
   "metadata": {
    "id": "xumxZP0XUBEx"
   },
   "outputs": [],
   "source": [
    "# Padding the document distributions over all the (30) topics\n",
    "def padding_matrix(model, train_corpus):\n",
    "    padding_dist_matrix = []\n",
    "    for i, dist in enumerate(model.get_document_topics(train_corpus)):\n",
    "        padding_dist_row = []\n",
    "        if len(dist) < 30:\n",
    "            dist_id = [topic_id for topic_id, prob in dist]\n",
    "            dist_id_prob_dict = {topic_id:prob for topic_id, prob in dist}\n",
    "            for i in range(30):\n",
    "                if i not in dist_id:\n",
    "                    padding_dist_row.append(0)\n",
    "                elif i in dist_id:\n",
    "                    padding_dist_row.append(dist_id_prob_dict[i])\n",
    "            padding_dist_matrix.append(padding_dist_row)\n",
    "        else:\n",
    "            prob_list = [prob for topic_id, prob in dist]\n",
    "            padding_dist_matrix.append(prob_list)\n",
    "    return padding_dist_matrix"
   ]
  },
  {
   "cell_type": "code",
   "execution_count": 57,
   "id": "adjusted-aviation",
   "metadata": {
    "id": "dUMFqZICUBEy"
   },
   "outputs": [],
   "source": [
    "art_padding_matrix = padding_matrix(lda_30, train_corpus)\n",
    "cp_padding_matrix = padding_matrix(lda_30, cp_corpus)\n",
    "cl_padding_matrix = padding_matrix(lda_30, cl_corpus)\n",
    "res_padding_matrix = padding_matrix(lda_30, res_corpus)"
   ]
  },
  {
   "cell_type": "code",
   "execution_count": 58,
   "id": "concerned-haiti",
   "metadata": {
    "id": "j2iXeE0XUBEz"
   },
   "outputs": [],
   "source": [
    "# prediction on new articles\n",
    "test_padding_matrix = padding_matrix(lda_30, test_corpus)"
   ]
  },
  {
   "cell_type": "code",
   "execution_count": 59,
   "id": "fifty-antarctica",
   "metadata": {
    "id": "iyAf9WBVUBEz"
   },
   "outputs": [],
   "source": [
    "general_urlRoute = [art_train['urlRoute'].tolist(), cp_train['urlRoute'].tolist(), cl_train['urlRoute'].tolist(), res_train['urlRoute'].tolist(), test_train['urlRoute'].tolist()]\n",
    "general_embedding_dict = [art_padding_matrix, cp_padding_matrix, cl_padding_matrix, res_padding_matrix, test_padding_matrix]"
   ]
  },
  {
   "cell_type": "code",
   "execution_count": 60,
   "id": "inner-coral",
   "metadata": {
    "id": "bzsEJrggUBEz"
   },
   "outputs": [],
   "source": [
    "urlRoute_embedding_dict = defaultdict(list)\n",
    "count = 0\n",
    "for i, matrix in enumerate(general_embedding_dict):\n",
    "    for j, doc_embedding in enumerate(matrix):\n",
    "        urlRoute_embedding_dict[general_urlRoute[i][j]].append(general_embedding_dict[i][j])"
   ]
  },
  {
   "cell_type": "code",
   "execution_count": 61,
   "id": "labeled-drain",
   "metadata": {
    "id": "jQiMcyC9UBE0"
   },
   "outputs": [],
   "source": [
    "from tqdm import tqdm\n",
    "import sklearn"
   ]
  },
  {
   "cell_type": "code",
   "execution_count": 62,
   "id": "configured-sacramento",
   "metadata": {
    "id": "FlMM3K1HUBE1"
   },
   "outputs": [],
   "source": [
    "urlRoute_embeddings = defaultdict(list)\n",
    "count = 0\n",
    "for urlRoute in urlRoute_list:\n",
    "    \n",
    "    if len(urlRoute_embedding_dict[urlRoute]) == 1:\n",
    "        urlRoute_embeddings[urlRoute] = urlRoute_embedding_dict[urlRoute]\n",
    "        count += 1\n",
    "    elif len(urlRoute_embedding_dict[urlRoute]) == 2:\n",
    "        continue"
   ]
  },
  {
   "cell_type": "code",
   "execution_count": 63,
   "id": "manufactured-williams",
   "metadata": {
    "id": "-ixrf9moUBE1"
   },
   "outputs": [],
   "source": [
    "embedding_rep = []\n",
    "for embeddings in urlRoute_embedding_dict:\n",
    "    row_embedding = []\n",
    "    for embedding in urlRoute_embedding_dict[embeddings]:\n",
    "        row_embedding.append(embedding)\n",
    "    embedding_rep.extend(row_embedding)"
   ]
  },
  {
   "cell_type": "code",
   "execution_count": 64,
   "id": "swiss-static",
   "metadata": {
    "colab": {
     "base_uri": "https://localhost:8080/"
    },
    "id": "_bICHNqRUBE1",
    "outputId": "23dc0cdd-0a46-4739-b20a-950276b6e6f6"
   },
   "outputs": [
    {
     "data": {
      "text/plain": [
       "(16281, 30)"
      ]
     },
     "execution_count": 64,
     "metadata": {
      "tags": []
     },
     "output_type": "execute_result"
    }
   ],
   "source": [
    "embedding_rep = np.array(embedding_rep)\n",
    "embedding_rep.shape"
   ]
  },
  {
   "cell_type": "markdown",
   "id": "convertible-mercury",
   "metadata": {
    "id": "IyQPklybUBE2"
   },
   "source": [
    "### Cosine similarity scores for topic distribution embeddings"
   ]
  },
  {
   "cell_type": "code",
   "execution_count": 65,
   "id": "excess-runner",
   "metadata": {
    "colab": {
     "base_uri": "https://localhost:8080/"
    },
    "id": "zfWRxiq9UBE2",
    "outputId": "1328dffd-22f6-426d-d25b-9d618c2f9890"
   },
   "outputs": [
    {
     "name": "stderr",
     "output_type": "stream",
     "text": [
      "16281it [00:49, 330.29it/s]\n"
     ]
    }
   ],
   "source": [
    "np_rep = np.zeros([len(embedding_rep), len(embedding_rep)]) \n",
    "# numpy vector representation on cos_sim\n",
    "for i, row in tqdm(enumerate(np_rep)):\n",
    "\n",
    "    sent1 = embedding_rep[i]\n",
    "    sent2_list = embedding_rep\n",
    "    cosine_sim = sklearn.metrics.pairwise.cosine_similarity([sent1], sent2_list)\n",
    "    np_rep[i] = cosine_sim[0]"
   ]
  },
  {
   "cell_type": "code",
   "execution_count": 66,
   "id": "distributed-asset",
   "metadata": {
    "colab": {
     "base_uri": "https://localhost:8080/"
    },
    "id": "Tqr5fRG-UBE3",
    "outputId": "d7709886-a6d3-4afa-87fc-b11fb697a807"
   },
   "outputs": [
    {
     "data": {
      "text/plain": [
       "array([[1.        , 0.08913597, 0.20630425, ..., 0.09824708, 0.32353552,\n",
       "        0.81087554],\n",
       "       [0.08913597, 1.        , 0.01117008, ..., 0.06316776, 0.22067469,\n",
       "        0.13377808],\n",
       "       [0.20630425, 0.01117008, 1.        , ..., 0.02399454, 0.34985838,\n",
       "        0.08831937],\n",
       "       ...,\n",
       "       [0.09824708, 0.06316776, 0.02399454, ..., 1.        , 0.10508609,\n",
       "        0.21629528],\n",
       "       [0.32353552, 0.22067469, 0.34985838, ..., 0.10508609, 1.        ,\n",
       "        0.45623018],\n",
       "       [0.81087554, 0.13377808, 0.08831937, ..., 0.21629528, 0.45623018,\n",
       "        1.        ]])"
      ]
     },
     "execution_count": 66,
     "metadata": {
      "tags": []
     },
     "output_type": "execute_result"
    }
   ],
   "source": [
    "np_rep"
   ]
  },
  {
   "cell_type": "code",
   "execution_count": 75,
   "id": "agricultural-stretch",
   "metadata": {
    "colab": {
     "base_uri": "https://localhost:8080/"
    },
    "id": "zJ9NPnsUCUad",
    "outputId": "e324f0d3-3c8b-47d7-94e2-25dbb0b7c902"
   },
   "outputs": [
    {
     "name": "stdout",
     "output_type": "stream",
     "text": [
      "(13024, 16281)\n",
      "\n",
      "\n",
      "filter condition: visit count > 5\n",
      "Ratio of visit to non visit:\n",
      "Gensim LDA topic modelling: 1.2146355850895947\n",
      "TF-IDF: 2.331400598354878\n",
      "\n"
     ]
    }
   ],
   "source": [
    "i=5\n",
    "train_lookup = {id:i for i, id in enumerate(train)}\n",
    "\n",
    "train_link_data = generate_link_data(train, all_ids, i, train_df, train_lookup, id2index)\n",
    "\n",
    "print(f\"\"\"\n",
    "\\nfilter condition: visit count > {i}\n",
    "Ratio of visit to non visit:\n",
    "Gensim LDA topic modelling: {compute_ratios(train_link_data, train_td_cs)}\n",
    "TF-IDF: {compute_ratios(train_link_data, train_tf)}\n",
    "\"\"\")"
   ]
  },
  {
   "cell_type": "code",
   "execution_count": 76,
   "id": "imported-potential",
   "metadata": {
    "colab": {
     "base_uri": "https://localhost:8080/"
    },
    "id": "uMSXOQcgClEW",
    "outputId": "47608830-cde8-40f3-e669-86daa293c6b3"
   },
   "outputs": [
    {
     "name": "stdout",
     "output_type": "stream",
     "text": [
      "(3257, 16281)\n",
      "Number of records processed : 1365\n",
      "\n",
      "filter condition: visit count > 5\n",
      "Ratio of visit to non visit:\n",
      "#Gensim LDA topic modelling: 1.3232963309402246\n",
      "TF-IDF: 2.3483899753857873\n",
      "\n"
     ]
    }
   ],
   "source": [
    "i=5\n",
    "test_lookup = {id:i for i, id in enumerate(test)}\n",
    "\n",
    "test_link_data = generate_link_data(test, all_ids, i, test_df, test_lookup, id2index)\n",
    "print(f\"\"\"\n",
    "\\nfilter condition: visit count > {i}\n",
    "Ratio of visit to non visit:\n",
    "#Gensim LDA topic modelling: {compute_ratios(test_link_data, test_td_cs)}\n",
    "TF-IDF: {compute_ratios(test_link_data, test_tf)}\n",
    "\"\"\")"
   ]
  }
 ],
 "metadata": {
  "accelerator": "GPU",
  "colab": {
   "machine_shape": "hm",
   "name": "Evaluations.ipynb",
   "provenance": []
  },
  "kernelspec": {
   "display_name": "Python 3",
   "language": "python",
   "name": "python3"
  },
  "language_info": {
   "codemirror_mode": {
    "name": "ipython",
    "version": 3
   },
   "file_extension": ".py",
   "mimetype": "text/x-python",
   "name": "python",
   "nbconvert_exporter": "python",
   "pygments_lexer": "ipython3",
   "version": "3.8.5"
  }
 },
 "nbformat": 4,
 "nbformat_minor": 5
}
