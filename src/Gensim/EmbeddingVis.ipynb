{
 "cells": [
  {
   "cell_type": "markdown",
   "metadata": {
    "id": "YoxlyEwiHK9u"
   },
   "source": [
    "# Visualization in Embedding Space for the articles"
   ]
  },
  {
   "cell_type": "code",
   "execution_count": 1,
   "metadata": {
    "id": "IIU_belUHK9w"
   },
   "outputs": [],
   "source": [
    "import numpy as np\n",
    "np.random.seed(0)"
   ]
  },
  {
   "cell_type": "code",
   "execution_count": 2,
   "metadata": {
    "colab": {
     "base_uri": "https://localhost:8080/"
    },
    "id": "VoOBbUK7HK9y",
    "outputId": "44d906f4-07be-457e-a87d-898d2ce2d927"
   },
   "outputs": [
    {
     "name": "stdout",
     "output_type": "stream",
     "text": [
      "[nltk_data] Downloading package stopwords to /root/nltk_data...\n",
      "[nltk_data]   Unzipping corpora/stopwords.zip.\n"
     ]
    }
   ],
   "source": [
    "import pickle\n",
    "import gensim\n",
    "import spacy\n",
    "import pandas as pd\n",
    "import nltk; nltk.download('stopwords')\n",
    "import gensim.corpora as corpora\n",
    "from gensim.utils import simple_preprocess\n",
    "from gensim.models import CoherenceModel\n",
    "import re\n",
    "import numpy as np\n",
    "from sklearn.metrics import accuracy_score\n",
    "from sklearn.linear_model import LogisticRegression\n",
    "from sklearn.naive_bayes import GaussianNB, MultinomialNB\n",
    "from sklearn.preprocessing import StandardScaler, MinMaxScaler\n",
    "import seaborn as sns\n",
    "%config InlineBackend.figure_formats = ['retina']\n",
    "from sklearn.metrics import f1_score\n",
    "from sklearn import linear_model\n",
    "from sklearn import metrics\n",
    "from sklearn.model_selection import KFold\n",
    "from sklearn.metrics import fbeta_score\n",
    "import matplotlib.pyplot as plt\n",
    "\n",
    "import json\n",
    "from collections import defaultdict, Counter\n",
    "from nltk.corpus import stopwords\n",
    "stopwords_set = stopwords.words(\"english\")\n",
    "import matplotlib.pyplot as plt\n",
    "import warnings\n",
    "warnings.filterwarnings('ignore')\n",
    "import numpy as np; np.random.seed(0)\n",
    "import seaborn as sns; sns.set_theme()"
   ]
  },
  {
   "cell_type": "code",
   "execution_count": 3,
   "metadata": {
    "colab": {
     "base_uri": "https://localhost:8080/"
    },
    "id": "eR7H3UZ9HK9z",
    "outputId": "77ee0c4f-273b-41f3-aef4-8eee9f07cdc6"
   },
   "outputs": [
    {
     "name": "stdout",
     "output_type": "stream",
     "text": [
      "Mounted at /content/drive\n"
     ]
    }
   ],
   "source": [
    "from google.colab import drive\n",
    "\n",
    "drive.mount(\"/content/drive\")"
   ]
  },
  {
   "cell_type": "markdown",
   "metadata": {
    "id": "BqCpNHgJHK9z"
   },
   "source": [
    "### Data Prep"
   ]
  },
  {
   "cell_type": "code",
   "execution_count": 4,
   "metadata": {
    "id": "XY_JORMUHK90"
   },
   "outputs": [],
   "source": [
    "articles = \"/content/drive/MyDrive/Career Guide Public Content/article.json\"\n",
    "\n",
    "art = []\n",
    "with open(articles, \"r\", encoding=\"utf-8\") as f:\n",
    "    for line in f:\n",
    "        art.append(json.loads(line))\n",
    "\n",
    "rev_train = pd.DataFrame(pd.DataFrame(art))\n",
    "rev_train['content_len'] = rev_train['content'].apply(lambda x: len(x.split()))"
   ]
  },
  {
   "cell_type": "code",
   "execution_count": 5,
   "metadata": {
    "id": "36CufjISHK90"
   },
   "outputs": [],
   "source": [
    "from nltk.corpus import stopwords\n",
    "stop_words = stopwords.words('english')\n",
    "stop_words.extend(['am','really','they','go','get','we','me','would','like','great','should','must']) "
   ]
  },
  {
   "cell_type": "code",
   "execution_count": 6,
   "metadata": {
    "id": "jFXOeMSzHK91"
   },
   "outputs": [],
   "source": [
    "nlp = spacy.load(\"en_core_web_sm\", disable=['parser', 'ner'])"
   ]
  },
  {
   "cell_type": "code",
   "execution_count": 11,
   "metadata": {
    "id": "juvioHCjHK91"
   },
   "outputs": [],
   "source": [
    "def strip_newline(series):\n",
    "    \"\"\"\n",
    "    stripping out new line\n",
    "    \"\"\"                    \n",
    "    return [review.replace('\\n','') for review in series]\n",
    "\n",
    "def sent_to_words(sentences):\n",
    "    \"\"\"\n",
    "    Converting sentence to words\n",
    "    \"\"\"                \n",
    "    for sentence in sentences:\n",
    "        yield(gensim.utils.simple_preprocess(str(sentence), deacc=True))\n",
    "        \n",
    "def remove_stopwords(texts):\n",
    "    \"\"\"\n",
    "    Used for removing stopwords\n",
    "    \"\"\"            \n",
    "    return [[word for word in simple_preprocess(str(doc)) if word not in stop_words] for doc in texts]\n",
    "\n",
    "def bigrams(words, bi_min=15, tri_min=10):\n",
    "    \"\"\"\n",
    "    Find the bigrams in the content of the article\n",
    "    \"\"\"        \n",
    "    bigram = gensim.models.Phrases(words, min_count = bi_min)\n",
    "    bigram_mod = gensim.models.phrases.Phraser(bigram)\n",
    "    return bigram_mod\n",
    "\n",
    "name_regex = \"[^]]+\"\n",
    "url_regex = \"http[s]?://[^)]+\"\n",
    "markup_regex = '\\[({0})]\\(\\s*({1})\\s*\\)'.format(name_regex, url_regex)\n",
    "\n",
    "def related_articles(corpus):\n",
    "    \"\"\"\n",
    "    Find the articles related to each content title and content\n",
    "    \"\"\"    \n",
    "    related_art = defaultdict(dict)\n",
    "    for content, title in zip(corpus[\"content\"], corpus[\"contentTitle\"]):\n",
    "        content = content.split(\"\\n\")\n",
    "        for i, cont in enumerate(content):\n",
    "            cont = cont.replace(\"*\",\"\")\n",
    "            try:            \n",
    "                for match in re.findall(markup_regex, cont):\n",
    "                    related_art[title][match[0]] = match[1]\n",
    "            except :\n",
    "                print(cont)\n",
    "    return related_art\n",
    "\n",
    "# def remove_hyperlinks(corpus, col):\n",
    "#     \"\"\"\n",
    "#     Remove hyperlinks from the content\n",
    "#     \"\"\"  \n",
    "#     for i, content in enumerate(corpus[col]):\n",
    "#         content = content.split(\"\\n\")\n",
    "#         for j, cont in enumerate(content):\n",
    "#             content[j] = content[j].replace(\"*\",\"\")\n",
    "#             if cont!='':\n",
    "#                 if \"https\" in cont or \"http\" in cont:\n",
    "#                     content[j] = \"\"\n",
    "#         corpus.iloc[i][\"content\"] = \" \".join(content)\n",
    "#     return corpus\n",
    "def remove_hyperlinks(corpus):\n",
    "    \"\"\"\n",
    "    Remove hypoerlinks from the content\n",
    "    \"\"\"  \n",
    "    fixed_content = [] \n",
    "    for i, content in enumerate(corpus[\"content\"]):\n",
    "        content = content.split(\"\\n\")\n",
    "        #print(content)\n",
    "        for i, cont in enumerate(content): \n",
    "            if cont!='':\n",
    "                if \"https\" in cont:\n",
    "                    content[i] = \"\"\n",
    "        #corpus.iloc[i][\"content\"] = \" \".join(content)\n",
    "        fix_ = \" \".join(content)\n",
    "        #print(fix_)\n",
    "        fixed_content.append(fix_)\n",
    "    \n",
    "    corpus[\"content\"] = fixed_content\n",
    "    return corpus\n",
    "def get_corpus(df):\n",
    "    \"\"\"\n",
    "    Get Bigram Model, Corpus, id2word mapping\n",
    "    \"\"\"\n",
    "    rltd_articles = {}\n",
    "    rltd_articles = related_articles(rev_train)\n",
    "    #df = remove_hyperlinks(df, 'content')\n",
    "    df = remove_hyperlinks(df)\n",
    "    df['content'] = strip_newline(df.content)\n",
    "    words = list(sent_to_words(df.content))\n",
    "    words = remove_stopwords(words)\n",
    "    bigram = bigrams(words)\n",
    "    bigram = [bigram[review] for review in words]\n",
    "    id2word = gensim.corpora.Dictionary(bigram)\n",
    "    id2word.filter_extremes(no_below=10, no_above=0.35)\n",
    "    id2word.compactify()\n",
    "    corpus = [id2word.doc2bow(text) for text in bigram]\n",
    "    return corpus, id2word, bigram\n",
    "\n"
   ]
  },
  {
   "cell_type": "code",
   "execution_count": 12,
   "metadata": {
    "id": "UEc4ZMcOHK92"
   },
   "outputs": [],
   "source": [
    "def striphtml(data):\n",
    "    p = re.compile(r'<.*?>')\n",
    "    return p.sub('', data)\n"
   ]
  },
  {
   "cell_type": "code",
   "execution_count": 13,
   "metadata": {
    "id": "M5zp0494HK93"
   },
   "outputs": [],
   "source": [
    "for i, content in enumerate(rev_train['content']):\n",
    "    content_ = striphtml(content) \n",
    "    rev_train['content'][i] = content_"
   ]
  },
  {
   "cell_type": "code",
   "execution_count": 14,
   "metadata": {
    "id": "YbFZy9UVHK93"
   },
   "outputs": [],
   "source": [
    "train_corpus4, train_id2word4, bigram_train4 = get_corpus(rev_train)"
   ]
  },
  {
   "cell_type": "code",
   "execution_count": 10,
   "metadata": {
    "id": "xr6xrPvJJzkA"
   },
   "outputs": [],
   "source": []
  },
  {
   "cell_type": "markdown",
   "metadata": {
    "id": "yUic4wngJ0dO"
   },
   "source": [
    "### Gensim Doc2Vec "
   ]
  },
  {
   "cell_type": "code",
   "execution_count": 15,
   "metadata": {
    "colab": {
     "base_uri": "https://localhost:8080/"
    },
    "id": "YxDHEvHVKJHw",
    "outputId": "94f5d427-0c6e-4531-be14-9bfceb216bd7"
   },
   "outputs": [
    {
     "name": "stdout",
     "output_type": "stream",
     "text": [
      "[nltk_data] Downloading package punkt to /root/nltk_data...\n",
      "[nltk_data]   Unzipping tokenizers/punkt.zip.\n"
     ]
    },
    {
     "data": {
      "text/plain": [
       "True"
      ]
     },
     "execution_count": 15,
     "metadata": {
      "tags": []
     },
     "output_type": "execute_result"
    }
   ],
   "source": [
    "from gensim.models.doc2vec import Doc2Vec, TaggedDocument\n",
    "from nltk.tokenize import word_tokenize\n",
    "import nltk\n",
    "nltk.download('punkt')"
   ]
  },
  {
   "cell_type": "markdown",
   "metadata": {
    "id": "TEUkzD_-Lc-G"
   },
   "source": [
    "Make bigram_train4 to document-wise format"
   ]
  },
  {
   "cell_type": "code",
   "execution_count": 16,
   "metadata": {
    "id": "b2KtjpinKGFg"
   },
   "outputs": [],
   "source": [
    "document_list = []\n",
    "for i, tokenized_sentence in enumerate(bigram_train4):\n",
    "    complete_sentence = \" \".join(tokenized_sentence)\n",
    "    document_list.append(complete_sentence)"
   ]
  },
  {
   "cell_type": "code",
   "execution_count": 17,
   "metadata": {
    "colab": {
     "base_uri": "https://localhost:8080/",
     "height": 148
    },
    "id": "KWNavH0MLCOO",
    "outputId": "98b794dd-3bf2-46ea-b650-5934ee435925"
   },
   "outputs": [
    {
     "data": {
      "application/vnd.google.colaboratory.intrinsic+json": {
       "type": "string"
      },
      "text/plain": [
       "'quick navigation importance work schedules opting flextime schedule tips help managers schedule employees creating organized schedule works everyone challenge even experienced managers career track becoming supervisor guide help understand_importance developing work schedule meet employees company needs importance work schedules management difficult role right path everyone also rewarding help succeed long_term career goals example management time support grow talented well functioning team major impact organization effective manager also means position mentor employees succeed career goals developing good work schedule skill learn time practice even may address unhappy employees understaffed hours adjust schedules properly often means using flexible working hours allow stagger employee shifts give reports better work life_balance opting flextime schedule available team flexible_schedules might good_option option many companies roles require office regular working hours customer support also_known flextime flexible work schedule employees work set number_hours within agreed_upon window starting finishing times example might establish full_time employees work eight_hour days hours whether choose come come might even allow employee take shorter workday long weekly hours add certain_amount common words employee wants take friday want take vacation_time might work hour days monday thursday still work hours flextime schedule beneficial many reasons including limited allowing employees work around childcare needs doctor_appointments preventing excessive absences reducing use paid leave reducing parking_lot congestion traffic issues attracting highly_qualified job candidates desire schedule managers offer flextime schedules tend fewer issues staffing attendance reduces many stresses come position tips implementing flextime schedule works team determine company core hours bandwidth core hours prime times staff needed workday bandwidth range hours time allow flexible_schedule words bandwidth earliest latest possible times employee may arrive leave work given day bandwidth may vary_depending holidays day_week weekends may every_day example company core hours may hours interacting clients daily bandwidth might range still urgent work outside core hours long enough employees work core hours come early others stay late depending personal_preference example called regular flexible_schedule scheduler simply adjusts employee start stop times consider daily flexible_schedule daily flexible_schedule similar regular flexible_schedule employees choose hours long core hours covered difference employee change start stop times daily still putting number_hours week manager wanting utilize daily flex_schedule assign employee regular flex_schedule make_adjustments employee finished workday employee may choose work lunch arrangement order leave early come late next day try compressed_workweek compressed_workweek type flex_schedule allows employee work hours fewer days standard compressed work employees working four hour days regular lunch_breaks similar option flextime schedule employee alternating working four days one week five next schedule good_option employees gives three day weekends couple times month also allows schedule doctor dentist appointments without_needing take time work tips help managers schedule employees whichever type schedule choose employees goal achieve maximum_efficiency remember scheduling employees straightforward may_seem sure set_aside plenty_time create schedules identify scheduling abuse scheduling abuse come either manager employee examples scheduling abuse employees might include asking leave early multiple_times per_week frequently asking leave early friday come late monday avoiding shifts requiring burdensome tasks switching shifts people tips showing work called frequently emergencies make call requesting last_minute schedule changes without legitimate reasons using scheduling software help identify schedule abuse coming employees spot scheduling abuse schedule one one meeting discuss issue tactfully work identify solutions make schedule attainable issues managers involved scheduling abuse look different engaged practices warrant scheduling abuse take step back find better solution scheduling abuse managers take form call scheduling schedule employee work needed call form scheduling prevents employee making plans potential work timeframe updating schedules last_minute avoid updating schedules days mere hours schedule starts writing updating schedules last_minute makes impossible employees make plans disrupts personal_lives canceling scheduled shifts last_minute employees shifts canceled last_minute time make plans employee might enjoy day every avoid making last_minute schedule cancellations habit extending shifts past schedule trying force employees stay later scheduled time form scheduling abuse yes people call may quickly find someone cover shift never penalize employee stay longer scheduled know workplace manager access sorts information store office including peak_hours reviewing information help understand several team_members scheduled cover busiest times downtime might need many contributors also recognize employees work better quiet hours handle peak times ease scheduling employees work times productive effective jobs better everyone considerate manager job everything within reason accommodate good employees someone calls need employee work late ask ahead_time instead hour shift ends willing allow shift swaps needed treating employees respect consideration goes long way toward keeping morale high fostering loyalty plus loyal employee likely willing work extra_hours even accept canceled shift hire dedicated call staff call scheduling acceptable practice hire someone specifically purpose days find short_staffed dedicated call employee practical solution create process staff availability good managers give employees chance communicate preferred hours sit employee discuss preferences create schedule convenient everyone payroll keep availability preferences form calendar scheduling software platform learning develop functioning work schedule works employees integral_part good manager giving employees flexible_schedule frees worrying personal obligations better focus work'"
      ]
     },
     "execution_count": 17,
     "metadata": {
      "tags": []
     },
     "output_type": "execute_result"
    }
   ],
   "source": [
    "document_list[0]"
   ]
  },
  {
   "cell_type": "markdown",
   "metadata": {
    "id": "oMqmbSv_MXFa"
   },
   "source": [
    "Tag documents using TaggedDocument\n"
   ]
  },
  {
   "cell_type": "code",
   "execution_count": 18,
   "metadata": {
    "id": "4QJI2ofKMQ-_"
   },
   "outputs": [],
   "source": [
    "tagged_data = [TaggedDocument(doc, [i]) for i, doc in enumerate(document_list)]"
   ]
  },
  {
   "cell_type": "markdown",
   "metadata": {
    "id": "7pBtWK9fMvuI"
   },
   "source": [
    "Now we create a Doc2Vec model by using the TaggedDocument above"
   ]
  },
  {
   "cell_type": "code",
   "execution_count": 19,
   "metadata": {
    "id": "xlAuPOeUMkDJ"
   },
   "outputs": [],
   "source": [
    "model_d2v = Doc2Vec(vector_size=100,alpha=0.025, min_count=1)\n",
    "model_d2v.build_vocab(tagged_data)"
   ]
  },
  {
   "cell_type": "markdown",
   "metadata": {
    "id": "BT76T6m7OAfu"
   },
   "source": [
    "Train the model"
   ]
  },
  {
   "cell_type": "code",
   "execution_count": 20,
   "metadata": {
    "id": "SPh5SLx7NHzL"
   },
   "outputs": [],
   "source": [
    "for epoch in range(10):\n",
    "    model_d2v.train(tagged_data,\n",
    "                total_examples=model_d2v.corpus_count,\n",
    "                #epochs=model_d2v.epochs\n",
    "                epochs=2)"
   ]
  },
  {
   "cell_type": "markdown",
   "metadata": {
    "id": "ls2Ej51nUFJ2"
   },
   "source": [
    "Initialized document embeddings as an np matrix with all value 0. The shape of the document embeddings will be (len(document_list), vector_size)"
   ]
  },
  {
   "cell_type": "code",
   "execution_count": 21,
   "metadata": {
    "id": "hW-rPGsNRqIs"
   },
   "outputs": [],
   "source": [
    "document_embeddings=np.zeros((len(document_list),100))\n",
    "for i in range(len(document_embeddings)):\n",
    "    document_embeddings[i]=model_d2v.docvecs[i]"
   ]
  },
  {
   "cell_type": "code",
   "execution_count": 22,
   "metadata": {
    "colab": {
     "base_uri": "https://localhost:8080/"
    },
    "id": "wvpEcJ-R1Hnm",
    "outputId": "d71338e2-bb6a-4bb1-a789-152f6955cb2a"
   },
   "outputs": [
    {
     "data": {
      "text/plain": [
       "array([[ 0.27598751, -0.20046164,  0.22168975, ..., -0.47924775,\n",
       "        -0.03883314,  0.28927127],\n",
       "       [-0.54114765, -0.16465837,  0.41930389, ...,  0.14850172,\n",
       "         0.08955393, -0.33527952],\n",
       "       [-0.0041163 ,  0.02908084, -0.312038  , ..., -0.52722406,\n",
       "        -0.30707729,  0.1101211 ],\n",
       "       ...,\n",
       "       [ 0.00494248, -0.22712202, -0.55716556, ..., -0.46579266,\n",
       "         0.08151589, -0.19890837],\n",
       "       [-0.190632  , -0.14377211, -0.18248963, ..., -0.34603524,\n",
       "        -0.28982234, -0.25882545],\n",
       "       [ 0.04696809, -0.0620921 ,  0.23427217, ..., -0.42268386,\n",
       "        -0.24082778, -0.08906938]])"
      ]
     },
     "execution_count": 22,
     "metadata": {
      "tags": []
     },
     "output_type": "execute_result"
    }
   ],
   "source": [
    "document_embeddings"
   ]
  },
  {
   "cell_type": "code",
   "execution_count": 23,
   "metadata": {
    "colab": {
     "base_uri": "https://localhost:8080/"
    },
    "id": "w4Fr36ISTtwG",
    "outputId": "67d27782-f3fa-48fb-b374-82946b676b9f"
   },
   "outputs": [
    {
     "data": {
      "text/plain": [
       "(13639, 100)"
      ]
     },
     "execution_count": 23,
     "metadata": {
      "tags": []
     },
     "output_type": "execute_result"
    }
   ],
   "source": [
    "document_embeddings.shape"
   ]
  },
  {
   "cell_type": "code",
   "execution_count": 24,
   "metadata": {
    "id": "izcuFDSoTvaA"
   },
   "outputs": [],
   "source": [
    "import sklearn\n",
    "pairwise_similarities=sklearn.metrics.pairwise.cosine_similarity(document_embeddings)\n",
    "pairwise_differences=sklearn.metrics.pairwise.euclidean_distances(document_embeddings)\n",
    "#Doc2Vec.most_similar(0,pairwise_similarities,'Cosine Similarity')\n",
    "#Doc2Vec.most_similar(0,pairwise_differences,'Euclidean Distance')"
   ]
  },
  {
   "cell_type": "code",
   "execution_count": 25,
   "metadata": {
    "colab": {
     "base_uri": "https://localhost:8080/"
    },
    "id": "W1wIACYZU--E",
    "outputId": "ec772d77-6bcd-488f-d7a3-43323b234ebd"
   },
   "outputs": [
    {
     "data": {
      "text/plain": [
       "array([[ 1.        ,  0.13943194, -0.08145214, ...,  0.18131474,\n",
       "        -0.01288021,  0.21048106],\n",
       "       [ 0.13943194,  1.        ,  0.03873049, ...,  0.176567  ,\n",
       "         0.26097615,  0.24124968],\n",
       "       [-0.08145214,  0.03873049,  1.        , ...,  0.10703448,\n",
       "        -0.06718308,  0.2805918 ],\n",
       "       ...,\n",
       "       [ 0.18131474,  0.176567  ,  0.10703448, ...,  1.        ,\n",
       "         0.20096733,  0.04385278],\n",
       "       [-0.01288021,  0.26097615, -0.06718308, ...,  0.20096733,\n",
       "         1.        ,  0.54558155],\n",
       "       [ 0.21048106,  0.24124968,  0.2805918 , ...,  0.04385278,\n",
       "         0.54558155,  1.        ]])"
      ]
     },
     "execution_count": 25,
     "metadata": {
      "tags": []
     },
     "output_type": "execute_result"
    }
   ],
   "source": [
    "pairwise_similarities"
   ]
  },
  {
   "cell_type": "code",
   "execution_count": 27,
   "metadata": {
    "id": "ZX4hiPF8VidH"
   },
   "outputs": [],
   "source": [
    "def find_similar_docs(pairwise_matrix, top_num = 5):\n",
    "    '''\n",
    "    This function will generate the top X (default 5) number of doc pairs that have the highest similarty scores in this matrix\n",
    "\n",
    "    Parameter:\n",
    "    ---------\n",
    "    pairwise_matrix: (array tensor) the similarity matrix\n",
    "\n",
    "    Return:\n",
    "    ------\n",
    "    similar_doc_ids: (list) a list of tuples that indicates the most similar pair of documents\n",
    "    similar_scores: (list) a list of similarity scores for the documents\n",
    "    '''\n",
    "    # turn symmetrical values to 0\n",
    "    pairwise_matrix[np.tril_indices_from(pairwise_matrix, -1)] = 0\n",
    "    # turn matrix diagonal to 0\n",
    "    for i in range(len(pairwise_matrix[0])):\n",
    "        pairwise_matrix[i][i] = 0\n",
    "    \n",
    "    index_tuple = np.unravel_index(np.argsort(pairwise_matrix.ravel())[-top_num:], pairwise_matrix.shape)\n",
    "    similar_doc_ids = []\n",
    "    for i in range(top_num):\n",
    "        similar_doc_ids.append((index_tuple[0][i], index_tuple[1][i]))\n",
    "    \n",
    "    similar_scores = pairwise_matrix[index_tuple]\n",
    "    return similar_doc_ids, similar_scores\n"
   ]
  },
  {
   "cell_type": "code",
   "execution_count": 28,
   "metadata": {
    "colab": {
     "base_uri": "https://localhost:8080/"
    },
    "id": "w5I-ac6YkAG9",
    "outputId": "4cff4894-37fd-4f0d-a688-4d745adb8d86"
   },
   "outputs": [
    {
     "data": {
      "text/plain": [
       "([(4713, 4747), (5651, 5677), (6414, 7353), (6757, 6758), (7699, 7756)],\n",
       " array([0.92785401, 0.92983727, 0.93355334, 0.93718731, 0.94442069]))"
      ]
     },
     "execution_count": 28,
     "metadata": {
      "tags": []
     },
     "output_type": "execute_result"
    }
   ],
   "source": [
    "find_similar_docs(pairwise_similarities)"
   ]
  },
  {
   "cell_type": "markdown",
   "metadata": {
    "id": "txCUJ2eOugGR"
   },
   "source": [
    "Referring to the previous 2 code chunks, if we generate the top 5 pair of documents in terms of their `cosine-similarity` scores, the function generates 5 pair of indecies that indicate the document ids, and it's related scores."
   ]
  },
  {
   "cell_type": "code",
   "execution_count": 29,
   "metadata": {
    "colab": {
     "base_uri": "https://localhost:8080/"
    },
    "id": "UJoKOX3fsG8W",
    "outputId": "7297c3fe-7d3e-4dbd-8021-1c7c08aef395"
   },
   "outputs": [
    {
     "data": {
      "text/plain": [
       "_id                          {'$oid': '5ff6486791ee1f0047d4353f'}\n",
       "title                                                         NaN\n",
       "content         When accountants calculate the financial outlo...\n",
       "category                                       career-development\n",
       "urlRoute                                   assets-and-liabilities\n",
       "contentTitle    Understanding Assets and Liabilities (With Exa...\n",
       "locale                                                      en_us\n",
       "content_len                                                  1688\n",
       "Name: 7699, dtype: object"
      ]
     },
     "execution_count": 29,
     "metadata": {
      "tags": []
     },
     "output_type": "execute_result"
    }
   ],
   "source": [
    "rev_train.iloc[7699]"
   ]
  },
  {
   "cell_type": "code",
   "execution_count": 30,
   "metadata": {
    "colab": {
     "base_uri": "https://localhost:8080/"
    },
    "id": "wEuQSZ7osvo8",
    "outputId": "c7369831-f453-4820-dae7-b1825a908587"
   },
   "outputs": [
    {
     "data": {
      "text/plain": [
       "_id                          {'$oid': '5ff6494ef28c6c004a2dbe7c'}\n",
       "title                                                         NaN\n",
       "content         Knowing how to use equations in accounting can...\n",
       "category                                       career-development\n",
       "urlRoute                                  equations-in-accounting\n",
       "contentTitle    How To Calculate and Use The Basic Accounting ...\n",
       "locale                                                      en_us\n",
       "content_len                                                  1277\n",
       "Name: 7756, dtype: object"
      ]
     },
     "execution_count": 30,
     "metadata": {
      "tags": []
     },
     "output_type": "execute_result"
    }
   ],
   "source": [
    "rev_train.iloc[7756]"
   ]
  },
  {
   "cell_type": "code",
   "execution_count": 25,
   "metadata": {
    "id": "jInL2fMZmdQC"
   },
   "outputs": [],
   "source": []
  },
  {
   "cell_type": "markdown",
   "metadata": {
    "id": "HSn5XJMHmdvS"
   },
   "source": [
    "### Load Gensim LDA model"
   ]
  },
  {
   "cell_type": "code",
   "execution_count": 31,
   "metadata": {
    "id": "ZN4f2ySTMCc1"
   },
   "outputs": [],
   "source": [
    "# Load model \n",
    "lda_train4 = gensim.models.ldamulticore.LdaMulticore.load(\"/content/drive/MyDrive/Gensim_LDA/models/lda_train4_23.model\")\n",
    "lda_train30 = gensim.models.LdaModel.load(\"/content/drive/MyDrive/Gensim_LDA/models/lda_train4_30.model\")\n",
    "lda_train40 = gensim.models.LdaModel.load(\"/content/drive/MyDrive/Gensim_LDA/models/lda_train4_40.model\")\n",
    "lda_train50 = gensim.models.LdaModel.load(\"/content/drive/MyDrive/Gensim_LDA/models/lda_train4_50.model\")\n"
   ]
  },
  {
   "cell_type": "code",
   "execution_count": 27,
   "metadata": {
    "colab": {
     "base_uri": "https://localhost:8080/"
    },
    "id": "LFgeD5aIoVxC",
    "outputId": "94e09b89-00a2-41dc-a045-2dc55e93ad48"
   },
   "outputs": [
    {
     "data": {
      "text/plain": [
       "22885"
      ]
     },
     "execution_count": 27,
     "metadata": {
      "tags": []
     },
     "output_type": "execute_result"
    }
   ],
   "source": [
    "len(lda_train30.id2word)"
   ]
  },
  {
   "cell_type": "code",
   "execution_count": 28,
   "metadata": {
    "id": "Iq6Kwg-Io58G"
   },
   "outputs": [],
   "source": [
    "def matrix_generator(ldamodel, num_topics, num_words):\n",
    "\n",
    "    phi_matrix = []\n",
    "    word_matrix = []\n",
    "    for i in range(num_topics):\n",
    "        phi_word = ldamodel.print_topics(num_topics=num_topics, num_words=num_words)[i][1]\n",
    "        splitted_phi_word = phi_word.split(\"+\")\n",
    "        phi_list = []\n",
    "        word_list = []\n",
    "        for phiword in splitted_phi_word:\n",
    "            phi, word = phiword.split(\"*\")\n",
    "            phi_list.append(phi)\n",
    "            word_list.append(word)\n",
    "        phi_matrix.append(phi_list)\n",
    "        word_matrix.append(word_list)\n",
    "    \n",
    "    return phi_matrix, word_matrix\n"
   ]
  },
  {
   "cell_type": "code",
   "execution_count": 29,
   "metadata": {
    "id": "csUM1BzZtKsu"
   },
   "outputs": [],
   "source": [
    "# shape: (30, len(lda_train30.id2word))\n",
    "#        (30, 22885)\n",
    "phi_30, word_30 = matrix_generator(lda_train30, 30, len(lda_train30.id2word))"
   ]
  },
  {
   "cell_type": "code",
   "execution_count": 30,
   "metadata": {
    "id": "b-_LwjZEtWns"
   },
   "outputs": [],
   "source": [
    "# shape: (30, len(lda_train40.id2word))\n",
    "#        (40, 22885)\n",
    "phi_40, word_40 = matrix_generator(lda_train40, 40, len(lda_train40.id2word))"
   ]
  },
  {
   "cell_type": "code",
   "execution_count": 31,
   "metadata": {
    "id": "PyBZ-2BJtNhS"
   },
   "outputs": [],
   "source": [
    "def plot_difference_matplotlib(mdiff, title=\"\", annotation=None):\n",
    "    \"\"\"Helper function to plot difference between models.\n",
    "\n",
    "    Uses matplotlib as the backend.\"\"\"\n",
    "    import matplotlib.pyplot as plt\n",
    "    fig, ax = plt.subplots(figsize=(18, 14))\n",
    "    data = ax.imshow(mdiff, cmap='RdBu_r', origin='lower')\n",
    "    plt.title(title)\n",
    "    plt.colorbar(data)\n",
    "    plt.ion()"
   ]
  },
  {
   "cell_type": "code",
   "execution_count": 31,
   "metadata": {
    "id": "qMPNNvxGcbuA"
   },
   "outputs": [],
   "source": []
  },
  {
   "cell_type": "markdown",
   "metadata": {
    "id": "-kkGTA83ccK4"
   },
   "source": [
    "Let us now look at the Jaccard Distance metric for similarity between bags of words (i.e, documents)\n",
    "\n",
    "The bigger the value, the more distinct these topics are."
   ]
  },
  {
   "cell_type": "code",
   "execution_count": 45,
   "metadata": {
    "colab": {
     "base_uri": "https://localhost:8080/",
     "height": 796
    },
    "id": "6VqVILKDtYP9",
    "outputId": "64263ac1-2c56-4860-ccbe-4b734157fa25"
   },
   "outputs": [
    {
     "data": {
      "image/png": "[encoded data removed]",
      "text/plain": [
       "<Figure size 1296x1008 with 2 Axes>"
      ]
     },
     "metadata": {
      "image/png": {
       "height": 779,
       "width": 956
      },
      "tags": []
     },
     "output_type": "display_data"
    }
   ],
   "source": [
    "mdiff, annotation = lda_train30.diff(lda_train40, distance='jaccard', num_words=50)\n",
    "plot_difference_matplotlib(mdiff, title=\"Topic difference (two models)[jaccard distance]\", annotation=annotation)"
   ]
  },
  {
   "cell_type": "code",
   "execution_count": 46,
   "metadata": {
    "colab": {
     "base_uri": "https://localhost:8080/",
     "height": 796
    },
    "id": "NbWO6juO5ZGp",
    "outputId": "814738a3-ca8d-4208-cdd5-956606581df3"
   },
   "outputs": [
    {
     "data": {
      "image/png": "[encoded data removed]",
      "text/plain": [
       "<Figure size 1296x1008 with 2 Axes>"
      ]
     },
     "metadata": {
      "image/png": {
       "height": 779,
       "width": 956
      },
      "tags": []
     },
     "output_type": "display_data"
    }
   ],
   "source": [
    "mdiff, annotation = lda_train40.diff(lda_train50, distance='jaccard', num_words=50)\n",
    "plot_difference_matplotlib(mdiff, title=\"Topic difference (two models)[jaccard distance]\", annotation=annotation)"
   ]
  },
  {
   "cell_type": "code",
   "execution_count": 47,
   "metadata": {
    "colab": {
     "base_uri": "https://localhost:8080/"
    },
    "id": "JahAes9Wkrvc",
    "outputId": "796cca0a-ec3c-4911-8f2f-6abdc436acde"
   },
   "outputs": [
    {
     "name": "stdout",
     "output_type": "stream",
     "text": [
      "[(0,\n",
      "  '0.033*\"candidates\" + 0.029*\"internship\" + 0.021*\"recruiters\" + '\n",
      "  '0.020*\"interns\" + 0.018*\"hiring\" + 0.012*\"positions\" + 0.011*\"intern\" + '\n",
      "  '0.011*\"internships\" + 0.011*\"recruitment\" + 0.010*\"hire\"'),\n",
      " (1,\n",
      "  '0.031*\"primary_duties\" + 0.012*\"professionals\" + 0.010*\"engineering\" + '\n",
      "  '0.010*\"clients\" + 0.009*\"financial\" + 0.008*\"engineers\" + 0.007*\"design\" + '\n",
      "  '0.007*\"consultant\" + 0.006*\"managers\" + 0.006*\"operations\"'),\n",
      " (2,\n",
      "  '0.028*\"product\" + 0.028*\"marketing\" + 0.023*\"customers\" + 0.018*\"sales\" + '\n",
      "  '0.016*\"customer\" + 0.016*\"products\" + 0.011*\"brand\" + 0.010*\"market\" + '\n",
      "  '0.008*\"businesses\" + 0.007*\"consumers\"'),\n",
      " (3,\n",
      "  '0.025*\"questions\" + 0.021*\"answer\" + 0.019*\"question\" + '\n",
      "  '0.013*\"interview_questions\" + 0.012*\"describe\" + 0.010*\"interview\" + '\n",
      "  '0.010*\"interviewer\" + 0.009*\"tell\" + 0.009*\"employers\" + 0.007*\"ask\"'),\n",
      " (4,\n",
      "  '0.032*\"manager\" + 0.025*\"managers\" + 0.013*\"leadership\" + 0.013*\"teams\" + '\n",
      "  '0.011*\"team_members\" + 0.011*\"communication\" + 0.010*\"leaders\" + '\n",
      "  '0.009*\"staff\" + 0.008*\"leader\" + 0.007*\"department\"'),\n",
      " (5,\n",
      "  '0.098*\"project\" + 0.026*\"plan\" + 0.021*\"projects\" + 0.018*\"budget\" + '\n",
      "  '0.012*\"project_management\" + 0.011*\"planning\" + 0.010*\"tasks\" + '\n",
      "  '0.007*\"project_managers\" + 0.007*\"task\" + 0.007*\"stakeholders\"'),\n",
      " (6,\n",
      "  '0.045*\"sales\" + 0.029*\"customers\" + 0.025*\"customer\" + '\n",
      "  '0.018*\"customer_service\" + 0.016*\"clients\" + 0.014*\"client\" + '\n",
      "  '0.013*\"real_estate\" + 0.012*\"service\" + 0.010*\"store\" + 0.009*\"services\"'),\n",
      " (7,\n",
      "  '0.033*\"medical\" + 0.032*\"patients\" + 0.019*\"nursing\" + 0.018*\"patient\" + '\n",
      "  '0.017*\"health\" + 0.014*\"healthcare\" + 0.011*\"nurses\" + 0.011*\"care\" + '\n",
      "  '0.009*\"nurse\" + 0.009*\"fitness\"'),\n",
      " (8,\n",
      "  '0.058*\"students\" + 0.027*\"school\" + 0.019*\"teaching\" + 0.018*\"student\" + '\n",
      "  '0.015*\"teacher\" + 0.013*\"teachers\" + 0.011*\"children\" + 0.011*\"college\" + '\n",
      "  '0.010*\"learning\" + 0.008*\"academic\"'),\n",
      " (9,\n",
      "  '0.008*\"workplace\" + 0.007*\"employee\" + 0.006*\"feel\" + 0.006*\"change\" + '\n",
      "  '0.005*\"feedback\" + 0.005*\"try\" + 0.005*\"ask\" + 0.004*\"tips\" + '\n",
      "  '0.004*\"meeting\" + 0.004*\"positive\"'),\n",
      " (10,\n",
      "  '0.011*\"opportunities\" + 0.011*\"community\" + 0.010*\"clients\" + '\n",
      "  '0.010*\"professionals\" + 0.010*\"support\" + 0.009*\"social\" + 0.008*\"personal\" '\n",
      "  '+ 0.007*\"network\" + 0.007*\"organizations\" + 0.006*\"individuals\"'),\n",
      " (11,\n",
      "  '0.022*\"music\" + 0.021*\"production\" + 0.014*\"art\" + 0.013*\"game\" + '\n",
      "  '0.011*\"creative\" + 0.010*\"artists\" + 0.009*\"mfa\" + 0.009*\"film\" + '\n",
      "  '0.008*\"acting\" + 0.007*\"video_game\"'),\n",
      " (12,\n",
      "  '0.022*\"degree\" + 0.017*\"certification\" + 0.013*\"program\" + 0.011*\"earn\" + '\n",
      "  '0.010*\"programs\" + 0.010*\"requirements\" + 0.008*\"certifications\" + '\n",
      "  '0.008*\"professionals\" + 0.007*\"apply\" + 0.007*\"courses\"'),\n",
      " (13,\n",
      "  '0.021*\"day\" + 0.016*\"office\" + 0.014*\"schedule\" + 0.014*\"hours\" + '\n",
      "  '0.011*\"tasks\" + 0.010*\"home\" + 0.007*\"sleep\" + 0.005*\"days\" + '\n",
      "  '0.005*\"personal\" + 0.004*\"desk\"'),\n",
      " (14,\n",
      "  '0.018*\"fashion\" + 0.016*\"wear\" + 0.016*\"hair_stylist\" + 0.015*\"hair\" + '\n",
      "  '0.012*\"clothing\" + 0.011*\"jewelry\" + 0.009*\"skin\" + 0.007*\"beauty\" + '\n",
      "  '0.006*\"clients\" + 0.006*\"makeup\"'),\n",
      " (15,\n",
      "  '0.034*\"software\" + 0.024*\"systems\" + 0.020*\"system\" + 0.017*\"computer\" + '\n",
      "  '0.016*\"security\" + 0.014*\"technology\" + 0.013*\"testing\" + 0.010*\"data\" + '\n",
      "  '0.010*\"test\" + 0.009*\"code\"'),\n",
      " (16,\n",
      "  '0.032*\"letter\" + 0.030*\"email\" + 0.021*\"cover_letter\" + 0.021*\"write\" + '\n",
      "  '0.017*\"name\" + 0.014*\"writing\" + 0.010*\"thank\" + 0.009*\"template\" + '\n",
      "  '0.007*\"recipient\" + 0.007*\"emails\"'),\n",
      " (17,\n",
      "  '0.019*\"environmental\" + 0.019*\"animals\" + 0.014*\"animal\" + 0.013*\"science\" '\n",
      "  '+ 0.011*\"food\" + 0.010*\"environment\" + 0.009*\"scientific\" + 0.008*\"study\" + '\n",
      "  '0.008*\"veterinarian\" + 0.007*\"scientists\"'),\n",
      " (18,\n",
      "  '0.060*\"data\" + 0.022*\"analysis\" + 0.014*\"model\" + 0.011*\"models\" + '\n",
      "  '0.010*\"modeling\" + 0.008*\"test\" + 0.007*\"number\" + 0.006*\"two\" + '\n",
      "  '0.006*\"values\" + 0.006*\"square_root\"'),\n",
      " (19,\n",
      "  '0.016*\"problem_solving\" + 0.016*\"ability\" + 0.016*\"communication\" + '\n",
      "  '0.015*\"skill\" + 0.012*\"communication_skills\" + 0.011*\"technical\" + '\n",
      "  '0.008*\"strong\" + 0.008*\"successful\" + 0.008*\"attention_detail\" + '\n",
      "  '0.008*\"understanding\"'),\n",
      " (20,\n",
      "  '0.020*\"content\" + 0.019*\"social_media\" + 0.018*\"event\" + 0.013*\"clients\" + '\n",
      "  '0.012*\"marketing\" + 0.011*\"media\" + 0.011*\"writing\" + 0.009*\"events\" + '\n",
      "  '0.008*\"portfolio\" + 0.008*\"online\"'),\n",
      " (21,\n",
      "  '0.020*\"financial\" + 0.010*\"costs\" + 0.010*\"accounting\" + 0.009*\"cost\" + '\n",
      "  '0.008*\"expenses\" + 0.007*\"value\" + 0.007*\"money\" + 0.006*\"assets\" + '\n",
      "  '0.006*\"investment\" + 0.006*\"tax\"'),\n",
      " (22,\n",
      "  '0.022*\"agile\" + 0.022*\"scrum\" + 0.008*\"scrum_master\" + 0.005*\"six_sigma\" + '\n",
      "  '0.004*\"sprint\" + 0.004*\"scrum_masters\" + 0.003*\"black_belt\" + '\n",
      "  '0.002*\"scrum_alliance\" + 0.002*\"angular\" + 0.002*\"agile_principles\"'),\n",
      " (23,\n",
      "  '0.014*\"construction\" + 0.013*\"equipment\" + 0.011*\"safety\" + '\n",
      "  '0.010*\"technician\" + 0.008*\"technicians\" + 0.007*\"legal\" + 0.006*\"building\" '\n",
      "  '+ 0.006*\"law\" + 0.005*\"materials\" + 0.005*\"electrical\"'),\n",
      " (24,\n",
      "  '0.019*\"presentation\" + 0.018*\"audience\" + 0.016*\"story\" + 0.012*\"topic\" + '\n",
      "  '0.008*\"speech\" + 0.008*\"pitch\" + 0.007*\"words\" + 0.007*\"idea\" + '\n",
      "  '0.007*\"speaking\" + 0.006*\"person\"'),\n",
      " (25,\n",
      "  '0.024*\"employee\" + 0.018*\"benefits\" + 0.016*\"employer\" + 0.016*\"contract\" + '\n",
      "  '0.012*\"insurance\" + 0.012*\"policy\" + 0.009*\"pay\" + 0.009*\"employers\" + '\n",
      "  '0.009*\"salary\" + 0.008*\"hr\"'),\n",
      " (26,\n",
      "  '0.024*\"military\" + 0.021*\"officer\" + 0.019*\"army\" + 0.015*\"sports\" + '\n",
      "  '0.015*\"officers\" + 0.011*\"aircraft\" + 0.011*\"flight\" + 0.008*\"air_force\" + '\n",
      "  '0.007*\"pilot\" + 0.007*\"navy\"'),\n",
      " (27,\n",
      "  '0.033*\"interview\" + 0.019*\"ask\" + 0.019*\"meeting\" + 0.018*\"candidate\" + '\n",
      "  '0.015*\"questions\" + 0.010*\"candidates\" + 0.009*\"interviews\" + '\n",
      "  '0.008*\"prepare\" + 0.007*\"person\" + 0.007*\"hiring_manager\"'),\n",
      " (28,\n",
      "  '0.029*\"design\" + 0.016*\"website\" + 0.009*\"user\" + 0.008*\"designs\" + '\n",
      "  '0.007*\"users\" + 0.007*\"digital\" + 0.006*\"page\" + 0.006*\"visual\" + '\n",
      "  '0.006*\"tools\" + 0.005*\"features\"'),\n",
      " (29,\n",
      "  '0.059*\"resume\" + 0.014*\"relevant\" + 0.012*\"write\" + 0.010*\"section\" + '\n",
      "  '0.009*\"qualifications\" + 0.009*\"name\" + 0.007*\"applying\" + 0.006*\"employer\" '\n",
      "  '+ 0.006*\"show\" + 0.006*\"highlight\"')]\n"
     ]
    }
   ],
   "source": [
    "from pprint import pprint\n",
    "pprint(lda_train30.print_topics(num_topics=30))\n",
    "doc_lda = lda_train30[train_corpus4]"
   ]
  },
  {
   "cell_type": "code",
   "execution_count": 48,
   "metadata": {
    "colab": {
     "base_uri": "https://localhost:8080/"
    },
    "id": "OVR-kcozP9xo",
    "outputId": "080444d9-5b7b-48e3-8c4c-69e0fe3e8459"
   },
   "outputs": [
    {
     "name": "stdout",
     "output_type": "stream",
     "text": [
      "[(0,\n",
      "  '0.018*\"event\" + 0.016*\"social_media\" + 0.013*\"online\" + 0.012*\"events\" + '\n",
      "  '0.012*\"candidates\" + 0.011*\"opportunities\" + 0.010*\"website\" + '\n",
      "  '0.010*\"network\" + 0.010*\"professionals\" + 0.008*\"search\"'),\n",
      " (1,\n",
      "  '0.029*\"manager\" + 0.027*\"primary_duties\" + 0.024*\"managers\" + '\n",
      "  '0.012*\"professionals\" + 0.011*\"operations\" + 0.009*\"staff\" + 0.008*\"duties\" '\n",
      "  '+ 0.008*\"roles\" + 0.007*\"manage\" + 0.007*\"department\"'),\n",
      " (2,\n",
      "  '0.051*\"financial\" + 0.030*\"clients\" + 0.027*\"accounting\" + '\n",
      "  '0.019*\"consultant\" + 0.017*\"finance\" + 0.014*\"consultants\" + '\n",
      "  '0.011*\"insurance\" + 0.011*\"client\" + 0.007*\"banking\" + 0.007*\"businesses\"'),\n",
      " (3,\n",
      "  '0.050*\"sales\" + 0.046*\"customers\" + 0.041*\"marketing\" + 0.036*\"customer\" + '\n",
      "  '0.031*\"product\" + 0.017*\"products\" + 0.015*\"brand\" + 0.008*\"purchase\" + '\n",
      "  '0.008*\"customer_service\" + 0.007*\"consumers\"'),\n",
      " (4,\n",
      "  '0.018*\"investment\" + 0.016*\"investors\" + 0.014*\"equity\" + 0.013*\"board\" + '\n",
      "  '0.013*\"capital\" + 0.011*\"partnership\" + 0.011*\"partner\" + 0.010*\"stock\" + '\n",
      "  '0.010*\"entrepreneurs\" + 0.010*\"board_directors\"'),\n",
      " (5,\n",
      "  '0.082*\"project\" + 0.020*\"projects\" + 0.019*\"plan\" + 0.015*\"budget\" + '\n",
      "  '0.013*\"tasks\" + 0.010*\"task\" + 0.010*\"project_management\" + '\n",
      "  '0.009*\"planning\" + 0.009*\"workflow\" + 0.007*\"team_members\"'),\n",
      " (6,\n",
      "  '0.026*\"social\" + 0.018*\"clients\" + 0.017*\"psychology\" + '\n",
      "  '0.017*\"mental_health\" + 0.012*\"counseling\" + 0.010*\"behavior\" + '\n",
      "  '0.010*\"counselors\" + 0.009*\"individuals\" + 0.009*\"youth\" + '\n",
      "  '0.008*\"services\"'),\n",
      " (7,\n",
      "  '0.039*\"medical\" + 0.037*\"patients\" + 0.022*\"nursing\" + 0.020*\"patient\" + '\n",
      "  '0.019*\"health\" + 0.016*\"healthcare\" + 0.013*\"nurses\" + 0.013*\"care\" + '\n",
      "  '0.011*\"nurse\" + 0.007*\"hospital\"'),\n",
      " (8,\n",
      "  '0.033*\"software\" + 0.019*\"systems\" + 0.016*\"computer\" + 0.015*\"system\" + '\n",
      "  '0.012*\"security\" + 0.011*\"technology\" + 0.011*\"user\" + 0.010*\"testing\" + '\n",
      "  '0.010*\"design\" + 0.008*\"data\"'),\n",
      " (9,\n",
      "  '0.007*\"benefits\" + 0.006*\"change\" + 0.006*\"plan\" + 0.005*\"strategy\" + '\n",
      "  '0.005*\"increase\" + 0.005*\"potential\" + 0.005*\"market\" + 0.005*\"businesses\" '\n",
      "  '+ 0.004*\"identify\" + 0.004*\"growth\"'),\n",
      " (10,\n",
      "  '0.020*\"degree\" + 0.015*\"certification\" + 0.012*\"program\" + 0.010*\"programs\" '\n",
      "  '+ 0.009*\"earn\" + 0.009*\"requirements\" + 0.008*\"professionals\" + '\n",
      "  '0.007*\"certifications\" + 0.007*\"apply\" + 0.006*\"pursue\"'),\n",
      " (11,\n",
      "  '0.049*\"fitness\" + 0.038*\"sports\" + 0.025*\"game\" + 0.018*\"coaching\" + '\n",
      "  '0.017*\"participants\" + 0.015*\"group\" + 0.015*\"coaches\" + 0.014*\"coach\" + '\n",
      "  '0.013*\"games\" + 0.011*\"athletes\"'),\n",
      " (12,\n",
      "  '0.016*\"pay\" + 0.010*\"money\" + 0.010*\"value\" + 0.010*\"year\" + '\n",
      "  '0.009*\"expenses\" + 0.009*\"income\" + 0.009*\"costs\" + 0.009*\"amount\" + '\n",
      "  '0.008*\"calculate\" + 0.007*\"total\"'),\n",
      " (13,\n",
      "  '0.015*\"transportation\" + 0.015*\"driver\" + 0.014*\"drivers\" + 0.013*\"driving\" '\n",
      "  '+ 0.013*\"road\" + 0.012*\"vehicle\" + 0.011*\"vehicles\" + 0.008*\"trucking\" + '\n",
      "  '0.008*\"safety\" + 0.007*\"truck_drivers\"'),\n",
      " (14,\n",
      "  '0.021*\"fashion\" + 0.018*\"wear\" + 0.017*\"hair_stylist\" + 0.016*\"hair\" + '\n",
      "  '0.013*\"jewelry\" + 0.012*\"clothing\" + 0.009*\"skin\" + 0.008*\"beauty\" + '\n",
      "  '0.006*\"clients\" + 0.006*\"makeup\"'),\n",
      " (15,\n",
      "  '0.064*\"students\" + 0.031*\"school\" + 0.023*\"teaching\" + 0.020*\"student\" + '\n",
      "  '0.018*\"teacher\" + 0.016*\"teachers\" + 0.013*\"children\" + 0.012*\"learning\" + '\n",
      "  '0.009*\"college\" + 0.009*\"academic\"'),\n",
      " (16,\n",
      "  '0.026*\"content\" + 0.016*\"writing\" + 0.013*\"media\" + 0.012*\"design\" + '\n",
      "  '0.011*\"creative\" + 0.010*\"social_media\" + 0.008*\"write\" + 0.008*\"portfolio\" '\n",
      "  '+ 0.008*\"audience\" + 0.007*\"marketing\"'),\n",
      " (17,\n",
      "  '0.021*\"animals\" + 0.019*\"environmental\" + 0.016*\"animal\" + 0.015*\"science\" '\n",
      "  '+ 0.011*\"scientific\" + 0.010*\"study\" + 0.009*\"veterinarian\" + '\n",
      "  '0.008*\"environmental_scientists\" + 0.008*\"wildlife\" + 0.008*\"scientists\"'),\n",
      " (18,\n",
      "  '0.002*\"human_relations\" + 0.001*\"recommendation_letter\" + 0.001*\"letter\" + '\n",
      "  '0.000*\"reference_letter\" + 0.000*\"letter_recommendation\" + 0.000*\"letters\" '\n",
      "  '+ 0.000*\"reference_letters\" + 0.000*\"recommend\" + 0.000*\"attentively\" + '\n",
      "  '0.000*\"noted\"'),\n",
      " (19,\n",
      "  '0.017*\"erp\" + 0.002*\"sans_serif\" + 0.001*\"px_px\" + 0.001*\"word_break\" + '\n",
      "  '0.001*\"normal_tg\" + 0.001*\"hidden_padding\" + 0.001*\"font_weight\" + '\n",
      "  '0.001*\"text_align\" + 0.001*\"align_top\" + 0.001*\"score\"'),\n",
      " (20,\n",
      "  '0.017*\"clients\" + 0.016*\"real_estate\" + 0.013*\"music\" + 0.011*\"restaurant\" '\n",
      "  '+ 0.010*\"food\" + 0.009*\"services\" + 0.008*\"travel\" + 0.008*\"agent\" + '\n",
      "  '0.007*\"home\" + 0.007*\"agents\"'),\n",
      " (21,\n",
      "  '0.015*\"primary_duties\" + 0.015*\"engineering\" + 0.015*\"construction\" + '\n",
      "  '0.014*\"equipment\" + 0.011*\"engineers\" + 0.010*\"technician\" + 0.010*\"design\" '\n",
      "  '+ 0.009*\"systems\" + 0.009*\"safety\" + 0.008*\"technicians\"'),\n",
      " (22,\n",
      "  '0.027*\"production\" + 0.027*\"products\" + 0.022*\"product\" + 0.019*\"cost\" + '\n",
      "  '0.018*\"inventory\" + 0.015*\"items\" + 0.015*\"costs\" + 0.013*\"price\" + '\n",
      "  '0.012*\"goods\" + 0.010*\"labor\"'),\n",
      " (23,\n",
      "  '0.054*\"per_year\" + 0.010*\"city\" + 0.009*\"state_live\" + 0.008*\"new_york\" + '\n",
      "  '0.007*\"per_hour\" + 0.006*\"maryland\" + 0.006*\"new_jersey\" + 0.006*\"salary\" + '\n",
      "  '0.005*\"cities\" + 0.004*\"pennsylvania\"'),\n",
      " (24,\n",
      "  '0.000*\"bean\" + 0.000*\"memorandum\" + 0.000*\"memo\" + 0.000*\"spring\" + '\n",
      "  '0.000*\"chicken\" + 0.000*\"setter\" + 0.000*\"correlation\" + 0.000*\"beans\" + '\n",
      "  '0.000*\"maya\" + 0.000*\"rice\"'),\n",
      " (25,\n",
      "  '0.026*\"employee\" + 0.020*\"employer\" + 0.014*\"contract\" + 0.009*\"policy\" + '\n",
      "  '0.009*\"employers\" + 0.008*\"benefits\" + 0.008*\"employment\" + 0.008*\"leave\" + '\n",
      "  '0.008*\"ask\" + 0.007*\"salary\"'),\n",
      " (26,\n",
      "  '0.019*\"military\" + 0.016*\"legal\" + 0.015*\"army\" + 0.015*\"officer\" + '\n",
      "  '0.014*\"law\" + 0.011*\"officers\" + 0.009*\"lawyers\" + 0.008*\"lawyer\" + '\n",
      "  '0.007*\"law_enforcement\" + 0.007*\"law_school\"'),\n",
      " (27,\n",
      "  '0.029*\"email\" + 0.028*\"letter\" + 0.016*\"write\" + 0.014*\"meeting\" + '\n",
      "  '0.014*\"name\" + 0.010*\"writing\" + 0.010*\"thank\" + 0.008*\"send\" + '\n",
      "  '0.006*\"emails\" + 0.006*\"template\"'),\n",
      " (28,\n",
      "  '0.012*\"presentation\" + 0.010*\"audience\" + 0.006*\"show\" + 0.005*\"image\" + '\n",
      "  '0.005*\"speech\" + 0.005*\"color\" + 0.005*\"space\" + 0.005*\"drawing\" + '\n",
      "  '0.005*\"practice\" + 0.005*\"acting\"'),\n",
      " (29,\n",
      "  '0.057*\"resume\" + 0.013*\"relevant\" + 0.013*\"write\" + 0.011*\"cover_letter\" + '\n",
      "  '0.010*\"section\" + 0.009*\"name\" + 0.009*\"qualifications\" + 0.007*\"applying\" '\n",
      "  '+ 0.006*\"employer\" + 0.006*\"writing\"'),\n",
      " (30,\n",
      "  '0.022*\"community\" + 0.019*\"volunteer\" + 0.014*\"nonprofits\" + '\n",
      "  '0.013*\"nonprofit\" + 0.009*\"donations\" + 0.009*\"foundations\" + '\n",
      "  '0.008*\"fundraising\" + 0.008*\"gifts\" + 0.008*\"foundation\" + 0.007*\"donors\"'),\n",
      " (31,\n",
      "  '0.005*\"angular\" + 0.004*\"angularjs\" + 0.001*\"directives\" + 0.001*\"bind\" + '\n",
      "  '0.000*\"single_page\" + 0.000*\"cli\" + 0.000*\"dom\" + 0.000*\"backwards\" + '\n",
      "  '0.000*\"binding\" + 0.000*\"behaves\"'),\n",
      " (32,\n",
      "  '0.018*\"cash_flow\" + 0.018*\"assets\" + 0.015*\"cash\" + 0.013*\"revenue\" + '\n",
      "  '0.013*\"statement\" + 0.012*\"asset\" + 0.010*\"balance_sheet\" + '\n",
      "  '0.010*\"financial\" + 0.010*\"credit\" + 0.009*\"ratio\"'),\n",
      " (33,\n",
      "  '0.014*\"issue\" + 0.013*\"problem\" + 0.010*\"conflict\" + 0.009*\"solution\" + '\n",
      "  '0.009*\"situation\" + 0.007*\"cause\" + 0.007*\"idea\" + 0.006*\"problems\" + '\n",
      "  '0.006*\"issues\" + 0.005*\"solutions\"'),\n",
      " (34,\n",
      "  '0.030*\"interview\" + 0.027*\"questions\" + 0.015*\"ask\" + 0.015*\"answer\" + '\n",
      "  '0.013*\"question\" + 0.010*\"candidate\" + 0.009*\"interview_questions\" + '\n",
      "  '0.008*\"interviewer\" + 0.008*\"describe\" + 0.007*\"prepare\"'),\n",
      " (35,\n",
      "  '0.008*\"funeral_director\" + 0.006*\"funeral\" + 0.005*\"funeral_directors\" + '\n",
      "  '0.004*\"deceased\" + 0.003*\"death\" + 0.001*\"funerals\" + '\n",
      "  '0.001*\"funeral_service\" + 0.001*\"bodies\" + 0.001*\"burial\" + 0.000*\"flower\"'),\n",
      " (36,\n",
      "  '0.085*\"data\" + 0.033*\"analysis\" + 0.014*\"models\" + 0.012*\"model\" + '\n",
      "  '0.011*\"modeling\" + 0.006*\"math\" + 0.006*\"square_root\" + 0.006*\"analyst\" + '\n",
      "  '0.006*\"analyze\" + 0.006*\"analysts\"'),\n",
      " (37,\n",
      "  '0.012*\"workplace\" + 0.009*\"communication\" + 0.007*\"team_members\" + '\n",
      "  '0.007*\"employee\" + 0.006*\"manager\" + 0.006*\"meeting\" + 0.006*\"feedback\" + '\n",
      "  '0.005*\"leadership\" + 0.005*\"feel\" + 0.005*\"positive\"'),\n",
      " (38,\n",
      "  '0.028*\"language\" + 0.018*\"international\" + 0.015*\"country\" + '\n",
      "  '0.014*\"interpreters\" + 0.013*\"countries\" + 0.011*\"translators\" + '\n",
      "  '0.010*\"languages\" + 0.009*\"interpreter\" + 0.008*\"spanish\" + '\n",
      "  '0.008*\"translate\"'),\n",
      " (39,\n",
      "  '0.019*\"day\" + 0.012*\"schedule\" + 0.011*\"office\" + 0.010*\"hours\" + '\n",
      "  '0.007*\"tasks\" + 0.007*\"home\" + 0.006*\"personal\" + 0.006*\"sleep\" + '\n",
      "  '0.005*\"days\" + 0.004*\"allow\"')]\n"
     ]
    }
   ],
   "source": [
    "from pprint import pprint\n",
    "pprint(lda_train40.print_topics(num_topics=40))\n",
    "doc_lda = lda_train40[train_corpus4]"
   ]
  },
  {
   "cell_type": "code",
   "execution_count": null,
   "metadata": {
    "id": "b3JNw5kVABIt"
   },
   "outputs": [],
   "source": []
  },
  {
   "cell_type": "code",
   "execution_count": null,
   "metadata": {
    "id": "g30w3e7bzTde"
   },
   "outputs": [],
   "source": []
  }
 ],
 "metadata": {
  "accelerator": "GPU",
  "colab": {
   "collapsed_sections": [],
   "name": "EmbeddingVis.ipynb",
   "provenance": [],
   "toc_visible": true
  },
  "kernelspec": {
   "display_name": "Python 3",
   "language": "python",
   "name": "python3"
  },
  "language_info": {
   "codemirror_mode": {
    "name": "ipython",
    "version": 3
   },
   "file_extension": ".py",
   "mimetype": "text/x-python",
   "name": "python",
   "nbconvert_exporter": "python",
   "pygments_lexer": "ipython3",
   "version": "3.8.5"
  }
 },
 "nbformat": 4,
 "nbformat_minor": 4
}
